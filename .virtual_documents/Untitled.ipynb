import pandas as pd
from matplotlib import pyplot as plt


df = pd.read_csv('shoe_sales.csv')
df.head()


df.shape


df.describe()


# 12.25 in 25th percentile
df.sold_qty[df.sold_qty < 12.25].shape


#Total values = 60

#25% of total values = 60*0.25 = 15

#Hence you see 15 above when you use 25% percentile value (which is 12.25) to filter the data


#Now let's do some min, max analysis

#Minimum sales quantity is 7 whereas max is 689. There is a possibility it can be an outlier. 

#We will first separate these values out as per the brand and then do some basic plotting to figure out whats going on


# Nike sales analysis


df_nike = df[df.brand == 'Nike']
df_nike


df_nike.shape


df_nike.describe()


# Handle NA values
df_nike.isnull().sum()


df_nike[df_nike.sold_qty.isnull()]


# How should we fill Na values for sold_qty? Using median is a way


df_nike.sold_qty.median()


val = round(df_nike.sold_qty.median())
val


df_nike.sold_qty.fillna(val, inplace=True)


df_nike.isnull().sum()


df_nike.describe()


df_nike.sold_qty.sum()


#### Nike Shoe Sales Insights

#1. On average we sell 20 nike shoes per day
#2. The daily sales range is 14 to 25
#3. In september month we sold 590 adidas shoes


# Adidas sales analysis


df_adidas = df[df.brand == 'Adidas']
df_adidas.head()


df_adidas.shape


df_adidas.isnull().count()




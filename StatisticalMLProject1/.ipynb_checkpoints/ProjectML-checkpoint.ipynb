{
 "cells": [
  {
   "cell_type": "code",
   "execution_count": null,
   "id": "74a20c28-cf20-4db4-a679-9dc1748aa766",
   "metadata": {},
   "outputs": [],
   "source": [
    "## Importing the Important libraries\n",
    "import pandas as pd\n",
    "import numpy as np\n",
    "from matplotlib import pyplot as plt\n",
    "import seaborn as sns\n",
    "import warnings as w\n",
    "w.filterwarnings('ignore')\n",
    "from sklearn.linear_model import LinearRegression , Lasso , Ridge\n",
    "from sklearn.metrics import r2_score, mean_squared_error , mean_absolute_error\n",
    "from statsmodels.stats.outliers_influence import variance_inflation_factor\n",
    "from sklearn.model_selection import train_test_split , cross_val_score\n",
    "from sklearn.model_selection import GridSearchCV, RandomizedSearchCV"
   ]
  },
  {
   "cell_type": "markdown",
   "id": "4c34e2e2-f557-402a-9950-b05c32d5f599",
   "metadata": {},
   "source": [
    "## Data Loading"
   ]
  },
  {
   "cell_type": "code",
   "execution_count": null,
   "id": "093f6fad-08b7-44d3-a0dd-8911fee49cfd",
   "metadata": {},
   "outputs": [],
   "source": []
  }
 ],
 "metadata": {
  "kernelspec": {
   "display_name": "Python 3 (ipykernel)",
   "language": "python",
   "name": "python3"
  },
  "language_info": {
   "codemirror_mode": {
    "name": "ipython",
    "version": 3
   },
   "file_extension": ".py",
   "mimetype": "text/x-python",
   "name": "python",
   "nbconvert_exporter": "python",
   "pygments_lexer": "ipython3",
   "version": "3.12.7"
  }
 },
 "nbformat": 4,
 "nbformat_minor": 5
}

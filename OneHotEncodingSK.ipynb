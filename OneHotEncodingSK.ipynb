{
 "cells": [
  {
   "cell_type": "code",
   "execution_count": 1,
   "id": "eafb7305-e663-4215-be4a-035f8272c094",
   "metadata": {},
   "outputs": [],
   "source": [
    "import pandas as pd\n",
    "from sklearn.preprocessing import OneHotEncoder"
   ]
  },
  {
   "cell_type": "code",
   "execution_count": 3,
   "id": "24fd9c6c-f114-4a02-acaf-c1b11f438915",
   "metadata": {},
   "outputs": [
    {
     "name": "stdout",
     "output_type": "stream",
     "text": [
      "   Color\n",
      "0    Red\n",
      "1   Blue\n",
      "2  Green\n",
      "3    Red\n",
      "4  Green\n"
     ]
    }
   ],
   "source": [
    "data = pd.DataFrame({'Color': ['Red', 'Blue', 'Green', 'Red', 'Green']\n",
    "})\n",
    "print(data)"
   ]
  },
  {
   "cell_type": "code",
   "execution_count": 4,
   "id": "c4f35ac0-d3c1-44da-9ea1-8405d335a62e",
   "metadata": {},
   "outputs": [],
   "source": [
    "enc = OneHotEncoder()"
   ]
  },
  {
   "cell_type": "code",
   "execution_count": 5,
   "id": "4e8f16cf-121f-4718-904d-6eb19910fede",
   "metadata": {},
   "outputs": [],
   "source": [
    "df_encoded = enc.fit_transform(data[['Color']])\n",
    "#fit() learns the categories.\n",
    "\n",
    "#transform() applies encoding.\n",
    "\n",
    "#This returns a sparse matrix."
   ]
  },
  {
   "cell_type": "code",
   "execution_count": 6,
   "id": "055a0c27-bfa9-4900-86ae-f787e8c88324",
   "metadata": {},
   "outputs": [
    {
     "name": "stdout",
     "output_type": "stream",
     "text": [
      "[[0. 0. 1.]\n",
      " [1. 0. 0.]\n",
      " [0. 1. 0.]\n",
      " [0. 0. 1.]\n",
      " [0. 1. 0.]]\n"
     ]
    }
   ],
   "source": [
    "df_encoded = df_encoded.toarray()\n",
    "print(df_encoded)"
   ]
  },
  {
   "cell_type": "code",
   "execution_count": 10,
   "id": "24126086-46fd-4cfd-aaf9-ec5d5a5b99fa",
   "metadata": {},
   "outputs": [
    {
     "name": "stdout",
     "output_type": "stream",
     "text": [
      "['Color_Blue' 'Color_Green' 'Color_Red']\n"
     ]
    }
   ],
   "source": [
    "print(enc.get_feature_names_out(['Color']))"
   ]
  },
  {
   "cell_type": "code",
   "execution_count": 13,
   "id": "a4bd2272-4c42-4ae5-bc37-5f21f92cf20f",
   "metadata": {},
   "outputs": [
    {
     "name": "stdout",
     "output_type": "stream",
     "text": [
      "   Color  Color_Blue  Color_Green  Color_Red\n",
      "0    Red           0            0          1\n",
      "1   Blue           1            0          0\n",
      "2  Green           0            1          0\n",
      "3    Red           0            0          1\n",
      "4  Green           0            1          0\n"
     ]
    }
   ],
   "source": [
    "encoded_df = pd.DataFrame(df_encoded, columns=enc.get_feature_names_out(['Color']),dtype = int)\n",
    "result = pd.concat([data, encoded_df], axis=1)\n",
    "print(result)"
   ]
  },
  {
   "cell_type": "code",
   "execution_count": null,
   "id": "00a4d6fd-8698-4b6b-997a-acd4154643f4",
   "metadata": {},
   "outputs": [],
   "source": []
  }
 ],
 "metadata": {
  "kernelspec": {
   "display_name": "Python 3 (ipykernel)",
   "language": "python",
   "name": "python3"
  },
  "language_info": {
   "codemirror_mode": {
    "name": "ipython",
    "version": 3
   },
   "file_extension": ".py",
   "mimetype": "text/x-python",
   "name": "python",
   "nbconvert_exporter": "python",
   "pygments_lexer": "ipython3",
   "version": "3.12.7"
  }
 },
 "nbformat": 4,
 "nbformat_minor": 5
}

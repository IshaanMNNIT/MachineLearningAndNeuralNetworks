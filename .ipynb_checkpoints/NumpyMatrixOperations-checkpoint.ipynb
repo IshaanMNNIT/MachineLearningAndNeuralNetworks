{
 "cells": [
  {
   "cell_type": "code",
   "execution_count": 1,
   "id": "269005dd-d03c-47f8-8cfc-93f8a2a6035c",
   "metadata": {},
   "outputs": [],
   "source": [
    "import numpy as np\n"
   ]
  },
  {
   "cell_type": "code",
   "execution_count": 2,
   "id": "34811e15-96c6-44a7-a137-28d8cdbc6175",
   "metadata": {},
   "outputs": [],
   "source": [
    "q1 = np.array([\n",
    "    [200,220,250],    # Product A\n",
    "    [150, 180, 210],  # Product B\n",
    "    [300, 330, 360]   # Product C\n",
    "])\n",
    "\n",
    "q2 = np.array([\n",
    "    [209, 231, 259],  # Product A\n",
    "    [155, 192, 222],  # Product B\n",
    "    [310, 340, 375]   # Product C\n",
    "])"
   ]
  },
  {
   "cell_type": "code",
   "execution_count": 3,
   "id": "4b131fa9-fcbd-4ad0-b8aa-bf7eae7cb172",
   "metadata": {},
   "outputs": [
    {
     "data": {
      "text/plain": [
       "array([[409, 451, 509],\n",
       "       [305, 372, 432],\n",
       "       [610, 670, 735]])"
      ]
     },
     "execution_count": 3,
     "metadata": {},
     "output_type": "execute_result"
    }
   ],
   "source": [
    "# combined sales of Q1 and Q2\n",
    "q1 + q2"
   ]
  },
  {
   "cell_type": "code",
   "execution_count": 4,
   "id": "0641fe6c-92f2-4b90-90c8-4b7b38d00155",
   "metadata": {},
   "outputs": [
    {
     "data": {
      "text/plain": [
       "array([[ 9, 11,  9],\n",
       "       [ 5, 12, 12],\n",
       "       [10, 10, 15]])"
      ]
     },
     "execution_count": 4,
     "metadata": {},
     "output_type": "execute_result"
    }
   ],
   "source": [
    "# sales units growth in q2 compared to q1\n",
    "q2 - q1"
   ]
  },
  {
   "cell_type": "code",
   "execution_count": 5,
   "id": "9d835fbf-c363-4030-98cb-b221e7879a3e",
   "metadata": {},
   "outputs": [
    {
     "data": {
      "text/plain": [
       "array([[4.5       , 5.        , 3.6       ],\n",
       "       [3.33333333, 6.66666667, 5.71428571],\n",
       "       [3.33333333, 3.03030303, 4.16666667]])"
      ]
     },
     "execution_count": 5,
     "metadata": {},
     "output_type": "execute_result"
    }
   ],
   "source": [
    "# % sales units growth in q2 compared to q1\n",
    "(q2-q1)*100/q1"
   ]
  },
  {
   "cell_type": "code",
   "execution_count": 6,
   "id": "3d4a1daa-d545-4bd7-9453-88ae3d6ff9c3",
   "metadata": {},
   "outputs": [
    {
     "data": {
      "text/plain": [
       "array([[2000, 2640, 2750],\n",
       "       [1200, 1620, 2100],\n",
       "       [4500, 5280, 6120]])"
      ]
     },
     "execution_count": 6,
     "metadata": {},
     "output_type": "execute_result"
    }
   ],
   "source": [
    "prices = np.array([\n",
    "    [10, 12, 11],  # Prices for Product A in different regions\n",
    "    [8,  9,  10],  # Prices for Product B\n",
    "    [15, 16, 17]   # Prices for Product C\n",
    "])\n",
    "\n",
    "q1_revenue = q1 * prices\n",
    "q1_revenue"
   ]
  },
  {
   "cell_type": "code",
   "execution_count": 7,
   "id": "c4a3365e-f6e4-4550-a6e3-eb625a1a2bda",
   "metadata": {},
   "outputs": [
    {
     "data": {
      "text/plain": [
       "array([[ 40. ,  52.8,  55. ],\n",
       "       [ 24. ,  32.4,  42. ],\n",
       "       [ 90. , 105.6, 122.4]])"
      ]
     },
     "execution_count": 7,
     "metadata": {},
     "output_type": "execute_result"
    }
   ],
   "source": [
    "q1_discounts = q1_revenue*0.02\n",
    "q1_discounts"
   ]
  },
  {
   "cell_type": "code",
   "execution_count": 8,
   "id": "d8c7ed32-a0f3-4d2a-a3a4-2dca4d28cbe0",
   "metadata": {},
   "outputs": [
    {
     "data": {
      "text/plain": [
       "array([[1960. , 2587.2, 2695. ],\n",
       "       [1176. , 1587.6, 2058. ],\n",
       "       [4410. , 5174.4, 5997.6]])"
      ]
     },
     "execution_count": 8,
     "metadata": {},
     "output_type": "execute_result"
    }
   ],
   "source": [
    "net_revenue = q1_revenue - q1_discounts\n",
    "net_revenue"
   ]
  },
  {
   "cell_type": "code",
   "execution_count": 9,
   "id": "bcc49fc2-47a2-4bc6-a0a5-95cb2c090218",
   "metadata": {},
   "outputs": [
    {
     "data": {
      "text/plain": [
       "564.2"
      ]
     },
     "execution_count": 9,
     "metadata": {},
     "output_type": "execute_result"
    }
   ],
   "source": [
    "np.sum(q1_discounts)"
   ]
  },
  {
   "cell_type": "code",
   "execution_count": 10,
   "id": "3ac2d61f-1654-40a8-9f21-35add20ca9c9",
   "metadata": {},
   "outputs": [
    {
     "data": {
      "text/plain": [
       "array([450000, 370000])"
      ]
     },
     "execution_count": 10,
     "metadata": {},
     "output_type": "execute_result"
    }
   ],
   "source": [
    "# first column is square footage, second is bedrooms\n",
    "features = np.array([\n",
    "    [2000, 3], # house 1\n",
    "    [1800, 2]  # house 2\n",
    "])\n",
    "\n",
    "weights = np.array([150, 50000])\n",
    "\n",
    "price = np.dot(features, weights)\n",
    "price"
   ]
  },
  {
   "cell_type": "code",
   "execution_count": 11,
   "id": "8a453846-f066-4aa0-b42f-5f4ce714e967",
   "metadata": {},
   "outputs": [
    {
     "data": {
      "text/plain": [
       "array([-3,  6, -3])"
      ]
     },
     "execution_count": 11,
     "metadata": {},
     "output_type": "execute_result"
    }
   ],
   "source": [
    "c = np.array([1,2,3])\n",
    "d = np.array([4,5,6])\n",
    "np.cross(c,d)"
   ]
  }
 ],
 "metadata": {
  "kernelspec": {
   "display_name": "Python 3 (ipykernel)",
   "language": "python",
   "name": "python3"
  },
  "language_info": {
   "codemirror_mode": {
    "name": "ipython",
    "version": 3
   },
   "file_extension": ".py",
   "mimetype": "text/x-python",
   "name": "python",
   "nbconvert_exporter": "python",
   "pygments_lexer": "ipython3",
   "version": "3.12.7"
  }
 },
 "nbformat": 4,
 "nbformat_minor": 5
}

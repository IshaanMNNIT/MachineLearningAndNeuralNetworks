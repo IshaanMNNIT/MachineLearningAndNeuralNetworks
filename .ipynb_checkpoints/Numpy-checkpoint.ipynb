{
 "cells": [
  {
   "cell_type": "code",
   "execution_count": 1,
   "id": "5ef44877-e8c7-4faa-9337-4e495a01457d",
   "metadata": {},
   "outputs": [],
   "source": [
    "import numpy as np"
   ]
  },
  {
   "cell_type": "code",
   "execution_count": 2,
   "id": "7f43a751-3f89-4a1a-bf2b-8d3e7d8cb4d0",
   "metadata": {},
   "outputs": [
    {
     "data": {
      "text/plain": [
       "[0, 1, 2, 3, 4]"
      ]
     },
     "execution_count": 2,
     "metadata": {},
     "output_type": "execute_result"
    }
   ],
   "source": [
    "python_list = [i for i in range(100)]\n",
    "python_list[:5]"
   ]
  },
  {
   "cell_type": "code",
   "execution_count": 3,
   "id": "7f72a160-3ae4-483c-93fe-8b8aae9ce8a2",
   "metadata": {},
   "outputs": [
    {
     "data": {
      "text/plain": [
       "2800"
      ]
     },
     "execution_count": 3,
     "metadata": {},
     "output_type": "execute_result"
    }
   ],
   "source": [
    "# Size of the python list\n",
    "import sys\n",
    "sys.getsizeof(python_list[0]) * len(python_list)"
   ]
  },
  {
   "cell_type": "code",
   "execution_count": 4,
   "id": "03506a4d-deae-4cad-9c22-8b717b5b8d97",
   "metadata": {},
   "outputs": [
    {
     "data": {
      "text/plain": [
       "array([0, 1, 2, 3, 4])"
      ]
     },
     "execution_count": 4,
     "metadata": {},
     "output_type": "execute_result"
    }
   ],
   "source": [
    "np_array = np.arange(100)\n",
    "np_array[:5]"
   ]
  },
  {
   "cell_type": "code",
   "execution_count": 5,
   "id": "08a0c5b6-d87a-4e3f-ae51-df0b94fd7e03",
   "metadata": {},
   "outputs": [
    {
     "data": {
      "text/plain": [
       "400"
      ]
     },
     "execution_count": 5,
     "metadata": {},
     "output_type": "execute_result"
    }
   ],
   "source": [
    "np_array.nbytes"
   ]
  },
  {
   "cell_type": "code",
   "execution_count": 7,
   "id": "87c595d6-43ad-479f-83a9-bc85d71ea8dc",
   "metadata": {},
   "outputs": [
    {
     "data": {
      "text/plain": [
       "((0, 0), (1, 1), (2, 2), (3, 3), (4, 4))"
      ]
     },
     "execution_count": 7,
     "metadata": {},
     "output_type": "execute_result"
    }
   ],
   "source": [
    "l1 = list(range(10000))\n",
    "l2 = list(range(10000))\n",
    "tuple(zip(l1,l2))[:5]"
   ]
  },
  {
   "cell_type": "code",
   "execution_count": 8,
   "id": "7a75b7f1-177d-4a21-bbce-c1dae3168235",
   "metadata": {},
   "outputs": [
    {
     "name": "stdout",
     "output_type": "stream",
     "text": [
      "Python list took:  0.2082357406616211\n"
     ]
    }
   ],
   "source": [
    "import time\n",
    "\n",
    "SIZE = 1000000\n",
    "\n",
    "l1 = list(range(SIZE))\n",
    "l2 = list(range(SIZE))\n",
    "\n",
    "start_time = time.time()\n",
    "l3 = [x+y for x, y in zip(l1, l2)]\n",
    "end_time = time.time()\n",
    "print(\"Python list took: \", end_time-start_time)"
   ]
  },
  {
   "cell_type": "code",
   "execution_count": 10,
   "id": "1a891189-26e0-4ad8-87cb-c8c13868c27e",
   "metadata": {},
   "outputs": [
    {
     "name": "stdout",
     "output_type": "stream",
     "text": [
      "Numpy array took:  0.003002166748046875\n"
     ]
    }
   ],
   "source": [
    "n1 = np.arange(SIZE)\n",
    "n2 = np.arange(SIZE)\n",
    "start_time = time.time()\n",
    "n3 = n1 + n2\n",
    "end_time = time.time()\n",
    "print(\"Numpy array took: \", end_time-start_time)"
   ]
  },
  {
   "cell_type": "code",
   "execution_count": 11,
   "id": "baf8487f-d1f1-46c8-b8b5-c7f9f229fe88",
   "metadata": {},
   "outputs": [],
   "source": [
    "l1 = list(range(5))\n",
    "l2 = list(range(5))"
   ]
  },
  {
   "cell_type": "code",
   "execution_count": 12,
   "id": "ac6ae1f1-34ab-484c-9987-ef20da6075a6",
   "metadata": {},
   "outputs": [
    {
     "data": {
      "text/plain": [
       "[0, 1, 2, 3, 4, 0, 1, 2, 3, 4]"
      ]
     },
     "execution_count": 12,
     "metadata": {},
     "output_type": "execute_result"
    }
   ],
   "source": [
    "l1 + l2 ## Result in concatenation"
   ]
  },
  {
   "cell_type": "code",
   "execution_count": 13,
   "id": "156ab5e7-d108-475d-a256-f910b84385c3",
   "metadata": {},
   "outputs": [
    {
     "data": {
      "text/plain": [
       "(array([0, 1, 2, 3, 4]), array([0, 1, 2, 3, 4]))"
      ]
     },
     "execution_count": 13,
     "metadata": {},
     "output_type": "execute_result"
    }
   ],
   "source": [
    "n1 = np.arange(5)\n",
    "n2 = np.arange(5)\n",
    "n1, n2"
   ]
  },
  {
   "cell_type": "code",
   "execution_count": 14,
   "id": "c24a739c-ebaa-406f-b3bc-3eb04050c34e",
   "metadata": {},
   "outputs": [
    {
     "data": {
      "text/plain": [
       "array([0, 2, 4, 6, 8])"
      ]
     },
     "execution_count": 14,
     "metadata": {},
     "output_type": "execute_result"
    }
   ],
   "source": [
    "n3 = n1 + n2 # Element wise operations\n",
    "n3"
   ]
  },
  {
   "cell_type": "code",
   "execution_count": 15,
   "id": "916cd151-9f11-4398-8dda-dd35d3a537b9",
   "metadata": {},
   "outputs": [
    {
     "data": {
      "text/plain": [
       "array([ 0,  1,  4,  9, 16])"
      ]
     },
     "execution_count": 15,
     "metadata": {},
     "output_type": "execute_result"
    }
   ],
   "source": [
    "n3 = n1*n2\n",
    "n3"
   ]
  },
  {
   "cell_type": "code",
   "execution_count": 16,
   "id": "6d18b62d-650e-4439-801e-6b2eff6a121e",
   "metadata": {},
   "outputs": [],
   "source": [
    "## Basic Operations on numpy arrays\n"
   ]
  },
  {
   "cell_type": "code",
   "execution_count": 17,
   "id": "1cfb9e03-fd44-419e-a6d5-5a9b0f9fc835",
   "metadata": {},
   "outputs": [
    {
     "data": {
      "text/plain": [
       "1"
      ]
     },
     "execution_count": 17,
     "metadata": {},
     "output_type": "execute_result"
    }
   ],
   "source": [
    "# revenues of quarter 1\n",
    "rev_q1 = np.array([10, 12, 9])\n",
    "rev_q1.ndim"
   ]
  },
  {
   "cell_type": "code",
   "execution_count": 18,
   "id": "8ae46e48-fc7b-4abf-bec7-48d001155d9f",
   "metadata": {},
   "outputs": [
    {
     "data": {
      "text/plain": [
       "2"
      ]
     },
     "execution_count": 18,
     "metadata": {},
     "output_type": "execute_result"
    }
   ],
   "source": [
    "# revenues of quarter 1 and 2\n",
    "rev = np.array([[10, 12, 9],[15, 11, 13]])\n",
    "rev.ndim"
   ]
  },
  {
   "cell_type": "code",
   "execution_count": 19,
   "id": "cec4dbbb-1233-46de-923d-47e5b9fb2a21",
   "metadata": {},
   "outputs": [
    {
     "data": {
      "text/plain": [
       "15"
      ]
     },
     "execution_count": 19,
     "metadata": {},
     "output_type": "execute_result"
    }
   ],
   "source": [
    "# find revenues of first month of second quarter\n",
    "rev[1,0]"
   ]
  },
  {
   "cell_type": "code",
   "execution_count": 20,
   "id": "85c28764-f741-40c6-a3f8-ab37cc6e2adc",
   "metadata": {},
   "outputs": [
    {
     "data": {
      "text/plain": [
       "array([[10, 12,  9],\n",
       "       [14, 11, 13]])"
      ]
     },
     "execution_count": 20,
     "metadata": {},
     "output_type": "execute_result"
    }
   ],
   "source": [
    "# update revenue of first month of second quarter\n",
    "rev[1,0] = 14\n",
    "rev"
   ]
  },
  {
   "cell_type": "code",
   "execution_count": 21,
   "id": "46de4f07-7cc0-4965-a905-af6b43dbd81a",
   "metadata": {},
   "outputs": [
    {
     "data": {
      "text/plain": [
       "(dtype('int32'), 4)"
      ]
     },
     "execution_count": 21,
     "metadata": {},
     "output_type": "execute_result"
    }
   ],
   "source": [
    "rev.dtype , rev.itemsize"
   ]
  },
  {
   "cell_type": "code",
   "execution_count": 22,
   "id": "0fb4402b-8bd2-4a82-8468-b236fcc0a6ad",
   "metadata": {},
   "outputs": [
    {
     "data": {
      "text/plain": [
       "dtype('float64')"
      ]
     },
     "execution_count": 22,
     "metadata": {},
     "output_type": "execute_result"
    }
   ],
   "source": [
    "rev = np.array([[10, 12, 9],[15, 11, 13]], dtype=float)\n",
    "rev.dtype"
   ]
  },
  {
   "cell_type": "code",
   "execution_count": 23,
   "id": "fc663924-f2f5-4c27-95f7-ac76c17f7f9f",
   "metadata": {},
   "outputs": [
    {
     "data": {
      "text/plain": [
       "8"
      ]
     },
     "execution_count": 23,
     "metadata": {},
     "output_type": "execute_result"
    }
   ],
   "source": [
    "rev.itemsize # size of an element"
   ]
  },
  {
   "cell_type": "code",
   "execution_count": 24,
   "id": "137430b3-c932-4583-82fd-58110c6f8909",
   "metadata": {},
   "outputs": [
    {
     "data": {
      "text/plain": [
       "6"
      ]
     },
     "execution_count": 24,
     "metadata": {},
     "output_type": "execute_result"
    }
   ],
   "source": [
    "rev.size # Total elements in the array\n"
   ]
  },
  {
   "cell_type": "code",
   "execution_count": 25,
   "id": "3c005fd0-0c62-42a6-8892-22c5c42b0c21",
   "metadata": {},
   "outputs": [
    {
     "data": {
      "text/plain": [
       "(2, 3)"
      ]
     },
     "execution_count": 25,
     "metadata": {},
     "output_type": "execute_result"
    }
   ],
   "source": [
    "rev.shape"
   ]
  },
  {
   "cell_type": "code",
   "execution_count": 26,
   "id": "21feecb4-6ad3-4173-a68b-44882bdaf5d4",
   "metadata": {},
   "outputs": [
    {
     "data": {
      "text/plain": [
       "array([ 9., 10., 11., 12., 13., 15.])"
      ]
     },
     "execution_count": 26,
     "metadata": {},
     "output_type": "execute_result"
    }
   ],
   "source": [
    "np.sort(rev, axis=None)"
   ]
  },
  {
   "cell_type": "code",
   "execution_count": 27,
   "id": "34e047d1-461b-4a0d-acc8-9f484dad539e",
   "metadata": {},
   "outputs": [
    {
     "data": {
      "text/plain": [
       "array([[ 9., 10., 12.],\n",
       "       [11., 13., 15.]])"
      ]
     },
     "execution_count": 27,
     "metadata": {},
     "output_type": "execute_result"
    }
   ],
   "source": [
    "np.sort(rev)"
   ]
  },
  {
   "cell_type": "code",
   "execution_count": 28,
   "id": "bc2c47c4-c26a-46f5-ab6f-f7a47fecb6aa",
   "metadata": {},
   "outputs": [
    {
     "data": {
      "text/plain": [
       "array([[0., 0., 0., 0.],\n",
       "       [0., 0., 0., 0.],\n",
       "       [0., 0., 0., 0.]])"
      ]
     },
     "execution_count": 28,
     "metadata": {},
     "output_type": "execute_result"
    }
   ],
   "source": [
    "# this kind of array is useful to initialize neural network weights\n",
    "np.zeros((3,4))"
   ]
  },
  {
   "cell_type": "code",
   "execution_count": 29,
   "id": "16b25917-fd4a-401a-a6cf-3230930ebfe7",
   "metadata": {},
   "outputs": [
    {
     "data": {
      "text/plain": [
       "array([[1., 1., 1., 1.],\n",
       "       [1., 1., 1., 1.],\n",
       "       [1., 1., 1., 1.]])"
      ]
     },
     "execution_count": 29,
     "metadata": {},
     "output_type": "execute_result"
    }
   ],
   "source": [
    "np.ones((3,4))"
   ]
  },
  {
   "cell_type": "code",
   "execution_count": 30,
   "id": "85582d87-3ae2-476d-b390-6ae7a260eba8",
   "metadata": {},
   "outputs": [
    {
     "data": {
      "text/plain": [
       "array([0, 1, 2])"
      ]
     },
     "execution_count": 30,
     "metadata": {},
     "output_type": "execute_result"
    }
   ],
   "source": [
    "np.arange(3)"
   ]
  },
  {
   "cell_type": "code",
   "execution_count": 31,
   "id": "a3df712c-ab81-41c3-b3ff-64844668c9ff",
   "metadata": {},
   "outputs": [
    {
     "data": {
      "text/plain": [
       "array([20, 21, 22, 23, 24, 25, 26, 27, 28, 29])"
      ]
     },
     "execution_count": 31,
     "metadata": {},
     "output_type": "execute_result"
    }
   ],
   "source": [
    "np.arange(20,30)"
   ]
  },
  {
   "cell_type": "code",
   "execution_count": 32,
   "id": "f6123dba-469d-409b-b4cd-8aaeba68b5a0",
   "metadata": {},
   "outputs": [
    {
     "data": {
      "text/plain": [
       "array([20, 22, 24, 26, 28])"
      ]
     },
     "execution_count": 32,
     "metadata": {},
     "output_type": "execute_result"
    }
   ],
   "source": [
    "np.arange(20,30,2)"
   ]
  },
  {
   "cell_type": "code",
   "execution_count": 33,
   "id": "19b3a200-d99c-4203-9ceb-e5f3a3e72fd8",
   "metadata": {},
   "outputs": [
    {
     "data": {
      "text/plain": [
       "array([10.        , 14.44444444, 18.88888889, 23.33333333, 27.77777778,\n",
       "       32.22222222, 36.66666667, 41.11111111, 45.55555556, 50.        ])"
      ]
     },
     "execution_count": 33,
     "metadata": {},
     "output_type": "execute_result"
    }
   ],
   "source": [
    "np.linspace(10,50,10)"
   ]
  },
  {
   "cell_type": "code",
   "execution_count": 34,
   "id": "478f6e06-68ac-4a70-9bd8-ea1c5d134cc8",
   "metadata": {},
   "outputs": [
    {
     "data": {
      "text/plain": [
       "array([[10., 12.,  9.],\n",
       "       [15., 11., 13.]])"
      ]
     },
     "execution_count": 34,
     "metadata": {},
     "output_type": "execute_result"
    }
   ],
   "source": [
    "rev"
   ]
  },
  {
   "cell_type": "code",
   "execution_count": 37,
   "id": "624c942c-1ae8-4601-a98d-d7fafc533d89",
   "metadata": {},
   "outputs": [
    {
     "name": "stdout",
     "output_type": "stream",
     "text": [
      "Flattened Array: [10  2  3  4]\n",
      "Original Array: [[1 2]\n",
      " [3 4]]\n",
      "Raveled Array: [10  2  3  4]\n",
      "Original Array: [[10  2]\n",
      " [ 3  4]]\n"
     ]
    }
   ],
   "source": [
    "import numpy as np\n",
    "\n",
    "# ravel and flatten functions are used to convert multi dimensional arrays to single \n",
    "# dimensional arrays but both have key differences\n",
    "\n",
    "arr = np.array([[1, 2], [3, 4]])\n",
    "\n",
    "# Using flatten()\n",
    "flattened_arr = arr.flatten()\n",
    "flattened_arr[0] = 10\n",
    "print(\"Flattened Array:\", flattened_arr)  # Output: [10  2  3  4]\n",
    "print(\"Original Array:\", arr) # Output: [[1 2] [3 4]]\n",
    "\n",
    "# Using ravel()\n",
    "raveled_arr = np.ravel(arr)\n",
    "raveled_arr[0] = 10\n",
    "print(\"Raveled Array:\", raveled_arr) # Output: [10  2  3  4]\n",
    "print(\"Original Array:\", arr) # Output: [[10  2] [ 3  4]]"
   ]
  },
  {
   "cell_type": "code",
   "execution_count": 38,
   "id": "9d085c41-d00c-4043-bc58-698a5501e7fd",
   "metadata": {},
   "outputs": [
    {
     "data": {
      "text/plain": [
       "array([[10., 12.],\n",
       "       [ 9., 15.],\n",
       "       [11., 13.]])"
      ]
     },
     "execution_count": 38,
     "metadata": {},
     "output_type": "execute_result"
    }
   ],
   "source": [
    "rev.reshape(3,2)"
   ]
  },
  {
   "cell_type": "code",
   "execution_count": 39,
   "id": "c558c213-bcf9-41f3-b901-a1e02e99ed27",
   "metadata": {},
   "outputs": [
    {
     "data": {
      "text/plain": [
       "9.0"
      ]
     },
     "execution_count": 39,
     "metadata": {},
     "output_type": "execute_result"
    }
   ],
   "source": [
    "rev.min() # minimum revenue"
   ]
  },
  {
   "cell_type": "code",
   "execution_count": 40,
   "id": "1fd98fdf-dcfe-4b5a-8b42-4c7711f1a585",
   "metadata": {},
   "outputs": [
    {
     "data": {
      "text/plain": [
       "15.0"
      ]
     },
     "execution_count": 40,
     "metadata": {},
     "output_type": "execute_result"
    }
   ],
   "source": [
    "rev.max() # maximum revenue"
   ]
  },
  {
   "cell_type": "code",
   "execution_count": 41,
   "id": "53f0deac-c644-4615-9642-67ed634bbd3e",
   "metadata": {},
   "outputs": [
    {
     "data": {
      "text/plain": [
       "array([[10., 12.,  9.],\n",
       "       [15., 11., 13.]])"
      ]
     },
     "execution_count": 41,
     "metadata": {},
     "output_type": "execute_result"
    }
   ],
   "source": [
    "rev"
   ]
  },
  {
   "cell_type": "code",
   "execution_count": 43,
   "id": "13bb864a-32d0-4126-9355-1c3fbed5603b",
   "metadata": {},
   "outputs": [
    {
     "data": {
      "text/plain": [
       "array([25., 23., 22.])"
      ]
     },
     "execution_count": 43,
     "metadata": {},
     "output_type": "execute_result"
    }
   ],
   "source": [
    "rev.sum(axis=0) # total revenue of first, second and third month of Q1 and Q2 # Column wise sum"
   ]
  },
  {
   "cell_type": "code",
   "execution_count": 45,
   "id": "eac5e528-180c-490d-a04d-72205306db2a",
   "metadata": {},
   "outputs": [
    {
     "data": {
      "text/plain": [
       "array([31., 39.])"
      ]
     },
     "execution_count": 45,
     "metadata": {},
     "output_type": "execute_result"
    }
   ],
   "source": [
    "rev.sum(axis=1) # total Q1 and Q2 revenue # Row wise sum"
   ]
  },
  {
   "cell_type": "code",
   "execution_count": 46,
   "id": "8104b090-93db-4532-90c4-5c9e063c4108",
   "metadata": {},
   "outputs": [
    {
     "name": "stdout",
     "output_type": "stream",
     "text": [
      "row:  [10. 12.  9.]\n",
      "row:  [15. 11. 13.]\n"
     ]
    }
   ],
   "source": [
    "for row in rev:\n",
    "    print(\"row: \", row)"
   ]
  },
  {
   "cell_type": "code",
   "execution_count": 47,
   "id": "cd57c6a5-6c4b-4fc6-9f75-88041b533ac1",
   "metadata": {},
   "outputs": [
    {
     "data": {
      "text/plain": [
       "array([1., 2., 4.])"
      ]
     },
     "execution_count": 47,
     "metadata": {},
     "output_type": "execute_result"
    }
   ],
   "source": [
    "b = np.array([1,4,16])\n",
    "np.sqrt(b)"
   ]
  },
  {
   "cell_type": "code",
   "execution_count": 48,
   "id": "465f9a7e-4857-48c2-aea2-9443afa9366f",
   "metadata": {},
   "outputs": [
    {
     "data": {
      "text/plain": [
       "(array([  1,  16, 256]), 6.48074069840786)"
      ]
     },
     "execution_count": 48,
     "metadata": {},
     "output_type": "execute_result"
    }
   ],
   "source": [
    "np.square(b) , np.std(b)"
   ]
  },
  {
   "cell_type": "code",
   "execution_count": null,
   "id": "687acb22-ea16-4e8b-8d19-b6f23ae0f2aa",
   "metadata": {},
   "outputs": [],
   "source": []
  }
 ],
 "metadata": {
  "kernelspec": {
   "display_name": "Python 3 (ipykernel)",
   "language": "python",
   "name": "python3"
  },
  "language_info": {
   "codemirror_mode": {
    "name": "ipython",
    "version": 3
   },
   "file_extension": ".py",
   "mimetype": "text/x-python",
   "name": "python",
   "nbconvert_exporter": "python",
   "pygments_lexer": "ipython3",
   "version": "3.12.7"
  }
 },
 "nbformat": 4,
 "nbformat_minor": 5
}

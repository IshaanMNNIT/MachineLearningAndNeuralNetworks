{
 "cells": [
  {
   "cell_type": "code",
   "execution_count": 1,
   "id": "37918e9c-02dc-4768-a20f-0f3d3cb25f15",
   "metadata": {},
   "outputs": [],
   "source": [
    "import torch"
   ]
  },
  {
   "cell_type": "code",
   "execution_count": 2,
   "id": "e6070fd0-6909-4907-8548-c983a260f869",
   "metadata": {},
   "outputs": [],
   "source": [
    "units = torch.tensor([\n",
    "    [200, 220],  # Product A (iPhone)\n",
    "    [150, 180],  # Product B (iPad)\n",
    "    [300, 330]   # Product C (MacBook)\n",
    "])"
   ]
  },
  {
   "cell_type": "code",
   "execution_count": 3,
   "id": "fb88a7a5-f5e6-4ee3-ad89-481cfceb0db0",
   "metadata": {},
   "outputs": [
    {
     "data": {
      "text/plain": [
       "torch.Size([3, 2])"
      ]
     },
     "execution_count": 3,
     "metadata": {},
     "output_type": "execute_result"
    }
   ],
   "source": [
    "units.shape"
   ]
  },
  {
   "cell_type": "code",
   "execution_count": 4,
   "id": "3e9fe6d9-1210-4771-a2b4-b1c4bee08ff5",
   "metadata": {},
   "outputs": [
    {
     "data": {
      "text/plain": [
       "torch.int64"
      ]
     },
     "execution_count": 4,
     "metadata": {},
     "output_type": "execute_result"
    }
   ],
   "source": [
    "units.dtype"
   ]
  },
  {
   "cell_type": "code",
   "execution_count": 5,
   "id": "94e3d7b5-4793-4177-95e2-cf4dc1ca8276",
   "metadata": {},
   "outputs": [
    {
     "data": {
      "text/plain": [
       "device(type='cpu')"
      ]
     },
     "execution_count": 5,
     "metadata": {},
     "output_type": "execute_result"
    }
   ],
   "source": [
    "units.device"
   ]
  },
  {
   "cell_type": "code",
   "execution_count": 6,
   "id": "3d054f12-8be2-49e5-b94b-ce8aabcb5bf8",
   "metadata": {},
   "outputs": [],
   "source": [
    "## Tensor Reshaping"
   ]
  },
  {
   "cell_type": "code",
   "execution_count": 7,
   "id": "bed86e36-22dc-4edf-9189-c701d49a88c9",
   "metadata": {},
   "outputs": [
    {
     "data": {
      "text/plain": [
       "tensor([200, 220, 150, 180, 300, 330])"
      ]
     },
     "execution_count": 7,
     "metadata": {},
     "output_type": "execute_result"
    }
   ],
   "source": [
    "units.view(-1)"
   ]
  },
  {
   "cell_type": "code",
   "execution_count": 8,
   "id": "44763d46-428c-44a9-ab6c-dbd02aee9804",
   "metadata": {},
   "outputs": [
    {
     "data": {
      "text/plain": [
       "tensor([[200, 220, 150],\n",
       "        [180, 300, 330]])"
      ]
     },
     "execution_count": 8,
     "metadata": {},
     "output_type": "execute_result"
    }
   ],
   "source": [
    "units.view(2,3)"
   ]
  },
  {
   "cell_type": "code",
   "execution_count": 9,
   "id": "40c58058-0bcd-4ad8-9aa9-6a7accbc1e38",
   "metadata": {},
   "outputs": [
    {
     "data": {
      "text/plain": [
       "tensor([[200],\n",
       "        [220],\n",
       "        [150],\n",
       "        [180],\n",
       "        [300],\n",
       "        [330]])"
      ]
     },
     "execution_count": 9,
     "metadata": {},
     "output_type": "execute_result"
    }
   ],
   "source": [
    "units.view(6,1)"
   ]
  },
  {
   "cell_type": "code",
   "execution_count": 10,
   "id": "11c83208-c55b-4700-9efc-c36e4012dd9a",
   "metadata": {},
   "outputs": [
    {
     "data": {
      "text/plain": [
       "tensor([[200, 220],\n",
       "        [150, 180],\n",
       "        [300, 330]])"
      ]
     },
     "execution_count": 10,
     "metadata": {},
     "output_type": "execute_result"
    }
   ],
   "source": [
    "units"
   ]
  },
  {
   "cell_type": "code",
   "execution_count": 11,
   "id": "5241b0be-eace-4289-8777-1ab94ab95564",
   "metadata": {},
   "outputs": [
    {
     "data": {
      "text/plain": [
       "tensor(300)"
      ]
     },
     "execution_count": 11,
     "metadata": {},
     "output_type": "execute_result"
    }
   ],
   "source": [
    "units[2,0]"
   ]
  },
  {
   "cell_type": "code",
   "execution_count": 12,
   "id": "fd9130c0-7f8f-4c53-a049-183475e4f9f9",
   "metadata": {},
   "outputs": [
    {
     "data": {
      "text/plain": [
       "tensor([[200, 220],\n",
       "        [150, 180],\n",
       "        [305, 330]])"
      ]
     },
     "execution_count": 12,
     "metadata": {},
     "output_type": "execute_result"
    }
   ],
   "source": [
    "units[2,0] = 305\n",
    "units"
   ]
  },
  {
   "cell_type": "code",
   "execution_count": 13,
   "id": "30e5a555-b7c1-4275-8cc6-afc8b0fbb473",
   "metadata": {},
   "outputs": [],
   "source": [
    "## Creating tensors with Specific Values"
   ]
  },
  {
   "cell_type": "code",
   "execution_count": 14,
   "id": "a84eac34-edc8-463e-8695-d8e7ad8c0d38",
   "metadata": {},
   "outputs": [
    {
     "data": {
      "text/plain": [
       "tensor([[0., 0., 0.],\n",
       "        [0., 0., 0.]])"
      ]
     },
     "execution_count": 14,
     "metadata": {},
     "output_type": "execute_result"
    }
   ],
   "source": [
    "torch.zeros((2,3))"
   ]
  },
  {
   "cell_type": "code",
   "execution_count": 15,
   "id": "0696fef3-ec3a-4ff5-972f-ef8ad6b1374f",
   "metadata": {},
   "outputs": [
    {
     "data": {
      "text/plain": [
       "tensor([[1., 1., 1., 1., 1.],\n",
       "        [1., 1., 1., 1., 1.],\n",
       "        [1., 1., 1., 1., 1.]])"
      ]
     },
     "execution_count": 15,
     "metadata": {},
     "output_type": "execute_result"
    }
   ],
   "source": [
    "torch.ones((3,5))"
   ]
  },
  {
   "cell_type": "code",
   "execution_count": 20,
   "id": "7990b09d-f479-4cd3-b08c-9f3e23ca690b",
   "metadata": {},
   "outputs": [
    {
     "data": {
      "text/plain": [
       "tensor([[1., 0., 0., 0.],\n",
       "        [0., 1., 0., 0.],\n",
       "        [0., 0., 1., 0.],\n",
       "        [0., 0., 0., 1.]])"
      ]
     },
     "execution_count": 20,
     "metadata": {},
     "output_type": "execute_result"
    }
   ],
   "source": [
    "torch.eye(4)"
   ]
  },
  {
   "cell_type": "code",
   "execution_count": 21,
   "id": "51fcbfcc-a862-4c3b-ac45-a5c2f9c1d448",
   "metadata": {},
   "outputs": [
    {
     "data": {
      "text/plain": [
       "tensor([[0.4936, 0.7516, 0.1478, 0.0411, 0.3471],\n",
       "        [0.6314, 0.1054, 0.5132, 0.6276, 0.6336],\n",
       "        [0.9209, 0.8051, 0.7471, 0.7901, 0.9812]])"
      ]
     },
     "execution_count": 21,
     "metadata": {},
     "output_type": "execute_result"
    }
   ],
   "source": [
    "torch.rand((3,5))"
   ]
  },
  {
   "cell_type": "code",
   "execution_count": null,
   "id": "6eeba23d-bec5-4b14-a5a0-4ebce2e70412",
   "metadata": {},
   "outputs": [],
   "source": []
  }
 ],
 "metadata": {
  "kernelspec": {
   "display_name": "Python (torch_env)",
   "language": "python",
   "name": "torch_env"
  },
  "language_info": {
   "codemirror_mode": {
    "name": "ipython",
    "version": 3
   },
   "file_extension": ".py",
   "mimetype": "text/x-python",
   "name": "python",
   "nbconvert_exporter": "python",
   "pygments_lexer": "ipython3",
   "version": "3.10.18"
  }
 },
 "nbformat": 4,
 "nbformat_minor": 5
}

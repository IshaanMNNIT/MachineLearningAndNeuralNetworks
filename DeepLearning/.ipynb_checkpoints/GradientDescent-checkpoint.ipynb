{
 "cells": [
  {
   "cell_type": "markdown",
   "id": "3f7e7b7a-ccbd-498c-bb5b-d4568dcb122b",
   "metadata": {},
   "source": [
    "<h2 style=\"align:center\">Codebasics DL Course: Gradient Descent Implementation Python</h2>"
   ]
  },
  {
   "cell_type": "markdown",
   "id": "6c3f4a83-e178-4205-8ac9-b281345adc3f",
   "metadata": {},
   "source": [
    "For employee's bonus dataset, implement gradient descent in PyTorch to find optimal values of weights that decides the bonus amount.\n",
    "\n",
    "𝑏𝑜𝑛𝑢𝑠 = 𝜔_1∗𝑝𝑒𝑟𝑓𝑜𝑟𝑚𝑎𝑛𝑐𝑒+𝜔_2∗𝑒𝑥𝑝𝑒𝑟𝑖𝑒𝑛𝑐𝑒+𝜔_3∗𝑝𝑟𝑜𝑗𝑒𝑐𝑡𝑠_𝑐𝑜𝑚𝑝𝑙𝑒𝑡𝑒𝑑+ 𝑏\n"
   ]
  },
  {
   "cell_type": "code",
   "execution_count": 2,
   "id": "3b3df865-a64e-4add-a8be-2591edd22426",
   "metadata": {},
   "outputs": [
    {
     "data": {
      "text/html": [
       "<div>\n",
       "<style scoped>\n",
       "    .dataframe tbody tr th:only-of-type {\n",
       "        vertical-align: middle;\n",
       "    }\n",
       "\n",
       "    .dataframe tbody tr th {\n",
       "        vertical-align: top;\n",
       "    }\n",
       "\n",
       "    .dataframe thead th {\n",
       "        text-align: right;\n",
       "    }\n",
       "</style>\n",
       "<table border=\"1\" class=\"dataframe\">\n",
       "  <thead>\n",
       "    <tr style=\"text-align: right;\">\n",
       "      <th></th>\n",
       "      <th>employee_id</th>\n",
       "      <th>performance</th>\n",
       "      <th>years_of_experience</th>\n",
       "      <th>projects_completed</th>\n",
       "      <th>bonus</th>\n",
       "    </tr>\n",
       "  </thead>\n",
       "  <tbody>\n",
       "    <tr>\n",
       "      <th>0</th>\n",
       "      <td>EMP_001</td>\n",
       "      <td>7</td>\n",
       "      <td>2</td>\n",
       "      <td>4</td>\n",
       "      <td>124</td>\n",
       "    </tr>\n",
       "    <tr>\n",
       "      <th>1</th>\n",
       "      <td>EMP_002</td>\n",
       "      <td>4</td>\n",
       "      <td>1</td>\n",
       "      <td>4</td>\n",
       "      <td>82</td>\n",
       "    </tr>\n",
       "    <tr>\n",
       "      <th>2</th>\n",
       "      <td>EMP_003</td>\n",
       "      <td>8</td>\n",
       "      <td>7</td>\n",
       "      <td>10</td>\n",
       "      <td>178</td>\n",
       "    </tr>\n",
       "    <tr>\n",
       "      <th>3</th>\n",
       "      <td>EMP_004</td>\n",
       "      <td>5</td>\n",
       "      <td>7</td>\n",
       "      <td>8</td>\n",
       "      <td>138</td>\n",
       "    </tr>\n",
       "    <tr>\n",
       "      <th>4</th>\n",
       "      <td>EMP_005</td>\n",
       "      <td>7</td>\n",
       "      <td>8</td>\n",
       "      <td>9</td>\n",
       "      <td>170</td>\n",
       "    </tr>\n",
       "  </tbody>\n",
       "</table>\n",
       "</div>"
      ],
      "text/plain": [
       "  employee_id  performance  years_of_experience  projects_completed  bonus\n",
       "0     EMP_001            7                    2                   4    124\n",
       "1     EMP_002            4                    1                   4     82\n",
       "2     EMP_003            8                    7                  10    178\n",
       "3     EMP_004            5                    7                   8    138\n",
       "4     EMP_005            7                    8                   9    170"
      ]
     },
     "execution_count": 2,
     "metadata": {},
     "output_type": "execute_result"
    }
   ],
   "source": [
    "import pandas as pd\n",
    "import matplotlib.pyplot as plt\n",
    "df = pd.read_csv('bonus_dataset.csv')\n",
    "df.head()"
   ]
  },
  {
   "cell_type": "code",
   "execution_count": 3,
   "id": "84f73f80-f39b-45b4-8fae-6cb0223c3109",
   "metadata": {},
   "outputs": [
    {
     "data": {
      "text/plain": [
       "(100, 5)"
      ]
     },
     "execution_count": 3,
     "metadata": {},
     "output_type": "execute_result"
    }
   ],
   "source": [
    "df.shape"
   ]
  },
  {
   "cell_type": "code",
   "execution_count": 4,
   "id": "2e317bdb-1715-4251-901c-2a8fc4a82bbf",
   "metadata": {},
   "outputs": [],
   "source": [
    "import torch\n",
    "## Extracting features and target from dataframe\n",
    "performance = torch.tensor(df['performance'].values, dtype = torch.float32)\n",
    "years_of_experience = torch.tensor(df['years_of_experience'].values, dtype=torch.float32)\n",
    "projects_completed = torch.tensor(df['projects_completed'].values, dtype=torch.float32)\n",
    "bonus = torch.tensor(df['bonus'].values, dtype=torch.float32)"
   ]
  },
  {
   "cell_type": "markdown",
   "id": "8e6903e0-7c32-4840-ae12-d1876cba3768",
   "metadata": {},
   "source": [
    "## Batch Gradient Descent"
   ]
  },
  {
   "cell_type": "code",
   "execution_count": 5,
   "id": "6138d90f-ae4c-45cd-a733-127ddb803a66",
   "metadata": {},
   "outputs": [
    {
     "data": {
      "text/plain": [
       "(tensor([0.3307], requires_grad=True), tensor([0.1381], requires_grad=True))"
      ]
     },
     "execution_count": 5,
     "metadata": {},
     "output_type": "execute_result"
    }
   ],
   "source": [
    "w1 = torch.rand(1, requires_grad=True)\n",
    "w2 = torch.rand(1, requires_grad=True)\n",
    "w3 = torch.rand(1, requires_grad=True)\n",
    "bias = torch.rand(1, requires_grad=True)\n",
    "\n",
    "w1, w2"
   ]
  },
  {
   "cell_type": "code",
   "execution_count": 9,
   "id": "794f3a30-d85d-4849-8fd2-9004b7567070",
   "metadata": {},
   "outputs": [
    {
     "name": "stdout",
     "output_type": "stream",
     "text": [
      "Epoch [100/5000], Loss: 17.9284\n",
      "Epoch [200/5000], Loss: 15.6178\n",
      "Epoch [300/5000], Loss: 13.6220\n",
      "Epoch [400/5000], Loss: 11.8862\n",
      "Epoch [500/5000], Loss: 10.3729\n",
      "Epoch [600/5000], Loss: 9.0527\n",
      "Epoch [700/5000], Loss: 7.9007\n",
      "Epoch [800/5000], Loss: 6.8952\n",
      "Epoch [900/5000], Loss: 6.0178\n",
      "Epoch [1000/5000], Loss: 5.2520\n",
      "Epoch [1100/5000], Loss: 4.5836\n",
      "Epoch [1200/5000], Loss: 4.0003\n",
      "Epoch [1300/5000], Loss: 3.4913\n",
      "Epoch [1400/5000], Loss: 3.0470\n",
      "Epoch [1500/5000], Loss: 2.6592\n",
      "Epoch [1600/5000], Loss: 2.3208\n",
      "Epoch [1700/5000], Loss: 2.0255\n",
      "Epoch [1800/5000], Loss: 1.7677\n",
      "Epoch [1900/5000], Loss: 1.5428\n",
      "Epoch [2000/5000], Loss: 1.3465\n",
      "Epoch [2100/5000], Loss: 1.1751\n",
      "Epoch [2200/5000], Loss: 1.0256\n",
      "Epoch [2300/5000], Loss: 0.8951\n",
      "Epoch [2400/5000], Loss: 0.7812\n",
      "Epoch [2500/5000], Loss: 0.6817\n",
      "Epoch [2600/5000], Loss: 0.5950\n",
      "Epoch [2700/5000], Loss: 0.5193\n",
      "Epoch [2800/5000], Loss: 0.4532\n",
      "Epoch [2900/5000], Loss: 0.3955\n",
      "Epoch [3000/5000], Loss: 0.3452\n",
      "Epoch [3100/5000], Loss: 0.3013\n",
      "Epoch [3200/5000], Loss: 0.2629\n",
      "Epoch [3300/5000], Loss: 0.2295\n",
      "Epoch [3400/5000], Loss: 0.2003\n",
      "Epoch [3500/5000], Loss: 0.1748\n",
      "Epoch [3600/5000], Loss: 0.1525\n",
      "Epoch [3700/5000], Loss: 0.1331\n",
      "Epoch [3800/5000], Loss: 0.1162\n",
      "Epoch [3900/5000], Loss: 0.1014\n",
      "Epoch [4000/5000], Loss: 0.0885\n",
      "Epoch [4100/5000], Loss: 0.0772\n",
      "Epoch [4200/5000], Loss: 0.0674\n",
      "Epoch [4300/5000], Loss: 0.0588\n",
      "Epoch [4400/5000], Loss: 0.0513\n",
      "Epoch [4500/5000], Loss: 0.0448\n",
      "Epoch [4600/5000], Loss: 0.0391\n",
      "Epoch [4700/5000], Loss: 0.0341\n",
      "Epoch [4800/5000], Loss: 0.0298\n",
      "Epoch [4900/5000], Loss: 0.0260\n",
      "Epoch [5000/5000], Loss: 0.0227\n"
     ]
    }
   ],
   "source": [
    "# Learning rate and number of iterations\n",
    "learning_rate = 0.006\n",
    "epochs = 5000\n",
    "\n",
    "# Step 3: Training loop for gradient descent\n",
    "for epoch in range(epochs):\n",
    "    # Compute the predicted bonus using the current weights and bias\n",
    "    predicted_bonus = w1 * performance + w2 * years_of_experience + w3 * projects_completed + bias\n",
    "    \n",
    "    # Compute the Mean Squared Error (MSE) loss\n",
    "    loss = ((predicted_bonus - bonus) ** 2).mean()\n",
    "    \n",
    "    # Perform backpropagation to compute gradients of the loss with respect to w1, w2, w3, and bias\n",
    "    loss.backward()\n",
    "    \n",
    "    # Update the weights and bias using the computed gradients\n",
    "    with torch.no_grad():\n",
    "        w1 -= learning_rate * w1.grad\n",
    "        w2 -= learning_rate * w2.grad\n",
    "        w3 -= learning_rate * w3.grad\n",
    "        bias -= learning_rate * bias.grad\n",
    "\n",
    "    # Zero the gradients after updating\n",
    "    w1.grad.zero_()\n",
    "    w2.grad.zero_()\n",
    "    w3.grad.zero_()\n",
    "    bias.grad.zero_()\n",
    "\n",
    "    # Print the loss at regular intervals\n",
    "    if (epoch + 1) % 100 == 0:\n",
    "        print(f\"Epoch [{epoch + 1}/{epochs}], Loss: {loss.item():.4f}\")"
   ]
  },
  {
   "cell_type": "code",
   "execution_count": 10,
   "id": "ae268e98-ff44-46f8-a6b1-e8d567aca204",
   "metadata": {},
   "outputs": [
    {
     "name": "stdout",
     "output_type": "stream",
     "text": [
      "w1: 12.03, w2: 5.91, w3: 2.13, bias: 19.39\n"
     ]
    }
   ],
   "source": [
    "## Printing the learned weights and bias\n",
    "print(f\"w1: {w1.item():.2f}, w2: {w2.item():.2f}, w3: {w3.item():.2f}, bias: {bias.item():.2f}\")"
   ]
  },
  {
   "cell_type": "code",
   "execution_count": 11,
   "id": "fb81c791-4b09-4281-ad43-0c91057dc203",
   "metadata": {},
   "outputs": [
    {
     "data": {
      "text/plain": [
       "tensor([142.0812], grad_fn=<AddBackward0>)"
      ]
     },
     "execution_count": 11,
     "metadata": {},
     "output_type": "execute_result"
    }
   ],
   "source": [
    "# predicted_bonus = w1 * performance + w2 * years_of_experience + w3 * projects_completed + bias\n",
    "predicted_bonus = w1 * 7 + w2 * 4 + w3 * 7 + bias\n",
    "predicted_bonus"
   ]
  },
  {
   "cell_type": "code",
   "execution_count": null,
   "id": "40d4fec3-452d-4254-9fd8-660f1768e3c6",
   "metadata": {},
   "outputs": [],
   "source": []
  }
 ],
 "metadata": {
  "kernelspec": {
   "display_name": "Python (torch_env)",
   "language": "python",
   "name": "torch_env"
  },
  "language_info": {
   "codemirror_mode": {
    "name": "ipython",
    "version": 3
   },
   "file_extension": ".py",
   "mimetype": "text/x-python",
   "name": "python",
   "nbconvert_exporter": "python",
   "pygments_lexer": "ipython3",
   "version": "3.10.18"
  }
 },
 "nbformat": 4,
 "nbformat_minor": 5
}

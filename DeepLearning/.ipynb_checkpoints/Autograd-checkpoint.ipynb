{
 "cells": [
  {
   "cell_type": "code",
   "execution_count": 1,
   "id": "2696c9fc-a970-4999-bf7e-e2c441015895",
   "metadata": {},
   "outputs": [],
   "source": [
    "import torch"
   ]
  },
  {
   "cell_type": "markdown",
   "id": "3fe0724e-546c-4fe1-815d-abb4b9307fc7",
   "metadata": {},
   "source": [
    "## Gradient for single input"
   ]
  },
  {
   "cell_type": "code",
   "execution_count": 3,
   "id": "b298f679-f71a-41c1-bbec-333fcd24ac73",
   "metadata": {},
   "outputs": [
    {
     "data": {
      "text/plain": [
       "tensor(425., dtype=torch.float16, grad_fn=<AddBackward0>)"
      ]
     },
     "execution_count": 3,
     "metadata": {},
     "output_type": "execute_result"
    }
   ],
   "source": [
    "material_cost = torch.tensor(10, requires_grad = True , dtype = torch.float16)\n",
    "labor_cost = torch.tensor(5, requires_grad = True , dtype = torch.float16)\n",
    "total_cost = 3*material_cost**2 + 5*labor_cost + 100\n",
    "total_cost"
   ]
  },
  {
   "cell_type": "code",
   "execution_count": 4,
   "id": "e686f624-5331-4618-a955-e3e7e4b64be0",
   "metadata": {},
   "outputs": [
    {
     "data": {
      "text/plain": [
       "(tensor(60., dtype=torch.float16), tensor(5., dtype=torch.float16))"
      ]
     },
     "execution_count": 4,
     "metadata": {},
     "output_type": "execute_result"
    }
   ],
   "source": [
    "total_cost.backward()\n",
    "material_cost.grad, labor_cost.grad"
   ]
  },
  {
   "cell_type": "code",
   "execution_count": 5,
   "id": "49ffef9d-7f90-4eb4-98b8-3f0582e579c2",
   "metadata": {},
   "outputs": [
    {
     "data": {
      "text/plain": [
       "True"
      ]
     },
     "execution_count": 5,
     "metadata": {},
     "output_type": "execute_result"
    }
   ],
   "source": [
    "total_cost.requires_grad"
   ]
  },
  {
   "cell_type": "markdown",
   "id": "e700144f-2a54-4889-8b64-9244bd9a507a",
   "metadata": {},
   "source": [
    "## Disable Gradient Computation"
   ]
  },
  {
   "cell_type": "code",
   "execution_count": 7,
   "id": "a1f1fd31-59d6-4e6e-9040-3b77c3c0cb4a",
   "metadata": {},
   "outputs": [
    {
     "name": "stdout",
     "output_type": "stream",
     "text": [
      "Outside no_grad:  True\n",
      "Inside no_grad:  False\n"
     ]
    }
   ],
   "source": [
    "x = torch.tensor(4, requires_grad=True, dtype=torch.float16)\n",
    "y = x**2 + 5\n",
    "print(\"Outside no_grad: \", y.requires_grad)\n",
    "\n",
    "# y.backward()\n",
    "# print(x.grad)\n",
    "    \n",
    "with torch.no_grad():\n",
    "    y = x**2 + 5\n",
    "    print(\"Inside no_grad: \", y.requires_grad)"
   ]
  },
  {
   "cell_type": "markdown",
   "id": "dca274c0-88ed-43c5-802f-7cbead0b4acf",
   "metadata": {},
   "source": [
    "## Gradient for vector"
   ]
  },
  {
   "cell_type": "code",
   "execution_count": 10,
   "id": "8a1a2ee0-fded-4cbc-95ed-cdc393dfe684",
   "metadata": {},
   "outputs": [
    {
     "data": {
      "text/plain": [
       "tensor([ 9., 23., 61.], dtype=torch.float16, grad_fn=<AddBackward0>)"
      ]
     },
     "execution_count": 10,
     "metadata": {},
     "output_type": "execute_result"
    }
   ],
   "source": [
    "x = torch.tensor([1,2,3],requires_grad=True,dtype=torch.float16)\n",
    "# x = torch.tensor([[1,2],[3,4]],requires_grad=True,dtype=torch.float16)\n",
    "\n",
    "y = 2 * x ** 3 + 7 \n",
    "y"
   ]
  },
  {
   "cell_type": "code",
   "execution_count": 11,
   "id": "6d6dca3c-fe27-4caf-882c-56b951bc058e",
   "metadata": {},
   "outputs": [
    {
     "data": {
      "text/plain": [
       "tensor(93., dtype=torch.float16, grad_fn=<SumBackward0>)"
      ]
     },
     "execution_count": 11,
     "metadata": {},
     "output_type": "execute_result"
    }
   ],
   "source": [
    "result = y.sum()\n",
    "result"
   ]
  },
  {
   "cell_type": "code",
   "execution_count": 12,
   "id": "a5961b75-16d9-4ae6-9989-d723f192d1cc",
   "metadata": {},
   "outputs": [
    {
     "data": {
      "text/plain": [
       "tensor([ 6., 24., 54.], dtype=torch.float16)"
      ]
     },
     "execution_count": 12,
     "metadata": {},
     "output_type": "execute_result"
    }
   ],
   "source": [
    "result.backward()\n",
    "x.grad"
   ]
  }
 ],
 "metadata": {
  "kernelspec": {
   "display_name": "Python (torch_env)",
   "language": "python",
   "name": "torch_env"
  },
  "language_info": {
   "codemirror_mode": {
    "name": "ipython",
    "version": 3
   },
   "file_extension": ".py",
   "mimetype": "text/x-python",
   "name": "python",
   "nbconvert_exporter": "python",
   "pygments_lexer": "ipython3",
   "version": "3.10.18"
  }
 },
 "nbformat": 4,
 "nbformat_minor": 5
}

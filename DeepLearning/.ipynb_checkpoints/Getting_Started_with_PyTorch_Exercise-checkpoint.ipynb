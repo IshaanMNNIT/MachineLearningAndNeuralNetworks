{
 "cells": [
  {
   "cell_type": "markdown",
   "metadata": {
    "id": "q7UkbxIuOsEb"
   },
   "source": [
    "# Problem Statement: **Welcome to AI Town!**\n",
    "\n",
    "### You’ve been hired as an AI engineer in **AI Town**, a futuristic city powered by artificial intelligence. Your job is to use PyTorch to solve foundational challenges that AI Town faces. Each task requires you to demonstrate your expertise with PyTorch basics."
   ]
  },
  {
   "cell_type": "markdown",
   "metadata": {
    "id": "gwD-rhXXnhIz"
   },
   "source": [
    "\n",
    "\n",
    "---\n",
    "\n"
   ]
  },
  {
   "cell_type": "markdown",
   "metadata": {
    "id": "6JwL8-81yLWK"
   },
   "source": [
    "Imports and CUDA"
   ]
  },
  {
   "cell_type": "code",
   "execution_count": 1,
   "metadata": {
    "id": "yR0_z_79yKEK"
   },
   "outputs": [
    {
     "name": "stdout",
     "output_type": "stream",
     "text": [
      "Using device: cuda\n"
     ]
    }
   ],
   "source": [
    "import torch\n",
    "\n",
    "# Check if CUDA (GPU) is available\n",
    "device = torch.device('cuda' if torch.cuda.is_available() else 'cpu')\n",
    "print(f\"Using device: {device}\")\n"
   ]
  },
  {
   "cell_type": "markdown",
   "metadata": {
    "id": "6iiOkre3ye0n"
   },
   "source": [
    "\n",
    "\n",
    "---\n",
    "\n"
   ]
  },
  {
   "cell_type": "markdown",
   "metadata": {
    "id": "iGT8uIK2nzxa"
   },
   "source": [
    "**Task1: Inventory Management**\n",
    "\n",
    "AI Town’s warehouse uses sensors to record the inventory of 5 items every day. Each day’s data is represented as a list of integers (number of units)."
   ]
  },
  {
   "cell_type": "code",
   "execution_count": 5,
   "metadata": {
    "id": "yQj9yyF-pADV"
   },
   "outputs": [
    {
     "data": {
      "text/plain": [
       "tensor([[12, 15, 10,  0,  5],\n",
       "        [10,  8,  7,  5,  4],\n",
       "        [20, 10, 15,  5,  2]])"
      ]
     },
     "execution_count": 5,
     "metadata": {},
     "output_type": "execute_result"
    }
   ],
   "source": [
    "#1 Create a PyTorch Tensor from the following inventory data\n",
    "inventory = [[12, 15, 10, 0, 5],\n",
    "             [10, 8, 7, 5, 4],\n",
    "             [20, 10, 15, 5, 2]]\n",
    "inventory_tensor = torch.tensor(inventory)\n",
    "inventory_tensor"
   ]
  },
  {
   "cell_type": "code",
   "execution_count": 6,
   "metadata": {
    "id": "piee_hPCo-VW"
   },
   "outputs": [
    {
     "name": "stdout",
     "output_type": "stream",
     "text": [
      "tensor([42, 33, 32, 10, 11])\n"
     ]
    }
   ],
   "source": [
    "#2 Find the total inventory for each item across all days\n",
    "total_inventory = inventory_tensor.sum(dim=0) # sum across rows\n",
    "print(total_inventory)"
   ]
  },
  {
   "cell_type": "code",
   "execution_count": 11,
   "metadata": {
    "id": "O-0F3R8uObWT"
   },
   "outputs": [
    {
     "data": {
      "text/plain": [
       "tensor([ 8.4000,  6.8000, 10.4000])"
      ]
     },
     "execution_count": 11,
     "metadata": {},
     "output_type": "execute_result"
    }
   ],
   "source": [
    "#3 Find the average inventory per day\n",
    "average_inventory = inventory_tensor.float().mean(dim = 1)\n",
    "average_inventory"
   ]
  },
  {
   "cell_type": "markdown",
   "metadata": {
    "id": "4eWH3-JBycim"
   },
   "source": [
    "\n",
    "\n",
    "---\n",
    "\n"
   ]
  },
  {
   "cell_type": "markdown",
   "metadata": {},
   "source": [
    "**KEY INSIGHTS**\n",
    "\n",
    "* dim=0 means summing across rows (column-wise), while dim=1 sums across columns (row-wise).\n",
    "* Tensor operations are efficient and avoid explicit loops."
   ]
  },
  {
   "cell_type": "markdown",
   "metadata": {
    "id": "jqsNZz1VpDTB"
   },
   "source": [
    "**Task2: Monitoring Vehicle Flow**\n",
    "\n",
    "AI Town uses a sensor to monitor the number of vehicles passing through two main roads every hour. The data for one day (24 hours) is represented as two\n",
    "1×24 tensors."
   ]
  },
  {
   "cell_type": "code",
   "execution_count": 12,
   "metadata": {
    "id": "v0N1_20upZV0"
   },
   "outputs": [
    {
     "name": "stdout",
     "output_type": "stream",
     "text": [
      "tensor([150,  87,  90, 194, 148, 155,  88, 164, 185, 135,  58, 179, 126,  93,\n",
      "         89, 112, 138,  94,  59, 170, 108, 122, 182,  92])\n",
      "tensor([181,  90, 196, 134,  63, 149,  64, 183,  60, 138, 121, 157, 110, 154,\n",
      "         82,  85, 188,  92, 142,  52, 171,  84, 141, 105])\n"
     ]
    }
   ],
   "source": [
    "#1 Simulate this data using PyTorch's Random Functions\n",
    "road1 = torch.randint(50, 200, (24,))\n",
    "road2 = torch.randint(50, 200, (24,))\n",
    "print(road1)\n",
    "print(road2)"
   ]
  },
  {
   "cell_type": "code",
   "execution_count": 13,
   "metadata": {
    "id": "o2ldiyONpkp_"
   },
   "outputs": [
    {
     "name": "stdout",
     "output_type": "stream",
     "text": [
      "tensor(3018)\n",
      "tensor(2942)\n"
     ]
    }
   ],
   "source": [
    "#2 Write the function to calculate the total vehicle flow for each road across the entire day\n",
    "total_flow_road1 = road1.sum() # total for road1\n",
    "total_flow_road2 = road2.sum() # total for road2\n",
    "print(total_flow_road1)\n",
    "print(total_flow_road2)"
   ]
  },
  {
   "cell_type": "code",
   "execution_count": 14,
   "metadata": {
    "id": "PP1ukEgXpvl_"
   },
   "outputs": [
    {
     "name": "stdout",
     "output_type": "stream",
     "text": [
      "\n"
     ]
    }
   ],
   "source": [
    "#3 Write the function to calculate the total vehicle flow for each hour across both roads\n",
    "total_flow_hourly  = road1 + road2\n",
    "print()"
   ]
  },
  {
   "cell_type": "markdown",
   "metadata": {
    "id": "wkp5wRVHygcH"
   },
   "source": [
    "\n",
    "\n",
    "---\n",
    "\n"
   ]
  },
  {
   "cell_type": "markdown",
   "metadata": {},
   "source": [
    "**KEY INSIGHTS**\n",
    "\n",
    "* Use torch.randint() for simulating random data in a specific range.\n",
    "* Element-wise addition works seamlessly on tensors of the same shape.\n",
    "\n",
    "---\n",
    "\n"
   ]
  },
  {
   "cell_type": "markdown",
   "metadata": {
    "id": "9_03v1baqBBB"
   },
   "source": [
    "**Task3: Fitness Matrix**\n",
    "\n",
    "The AI Gym tracks members’ fitness scores using a 3×3 matrix for *strength*, *stamina*, and f*lexibility*. Each row represents a different member, and each column represents a specific metric."
   ]
  },
  {
   "cell_type": "code",
   "execution_count": 15,
   "metadata": {
    "id": "GlQTZKI6rZ5X"
   },
   "outputs": [
    {
     "name": "stdout",
     "output_type": "stream",
     "text": [
      "tensor([[  8.0000,  24.0000,  45.0000],\n",
      "        [ 32.0000,  60.0000,  90.0000],\n",
      "        [ 56.0000,  96.0000, 135.0000]])\n"
     ]
    }
   ],
   "source": [
    "#1 Create a 3*3 tensor matrix and multiply the scores of each member by a weight factor: [0.8, 1.2, 1.5]\n",
    "fitness = torch.tensor([[10, 20, 30],\n",
    "                        [40, 50, 60],\n",
    "                        [70, 80, 90]])\n",
    "weights = torch.tensor([0.8, 1.2, 1.5])\n",
    "weighted_fitness = weights * fitness\n",
    "print(weighted_fitness)"
   ]
  },
  {
   "cell_type": "code",
   "execution_count": 16,
   "metadata": {
    "id": "_uce_-rXr1un"
   },
   "outputs": [
    {
     "name": "stdout",
     "output_type": "stream",
     "text": [
      "torch.return_types.max(\n",
      "values=tensor([ 45.,  90., 135.]),\n",
      "indices=tensor([2, 2, 2]))\n",
      "torch.return_types.max(\n",
      "values=tensor([ 56.,  96., 135.]),\n",
      "indices=tensor([2, 2, 2]))\n"
     ]
    }
   ],
   "source": [
    "#2 Find the row-wise and column-wise maximum scores\n",
    "row_max = weighted_fitness.max(dim=1) # max for each row\n",
    "col_max = weighted_fitness.max(dim=0) # max for each column\n",
    "print(row_max)\n",
    "print(col_max)"
   ]
  },
  {
   "cell_type": "code",
   "execution_count": 17,
   "metadata": {
    "id": "WIapNxZ6r4Dn"
   },
   "outputs": [
    {
     "name": "stdout",
     "output_type": "stream",
     "text": [
      "tensor([[10, 40, 70],\n",
      "        [20, 50, 80],\n",
      "        [30, 60, 90]])\n"
     ]
    }
   ],
   "source": [
    "#3 Transpose the fitness matrix and interpret it's new structure (shape)\n",
    "transposed_fitness = fitness.t()\n",
    "print(transposed_fitness)"
   ]
  },
  {
   "cell_type": "markdown",
   "metadata": {
    "id": "LlDlQS0Vyh8W"
   },
   "source": [
    "\n",
    "\n",
    "---\n",
    "\n"
   ]
  },
  {
   "cell_type": "markdown",
   "metadata": {},
   "source": [
    "**KEY INSIGHTS**\n",
    "\n",
    "Learn [Broadcasting](https://pytorch.org/docs/stable/notes/broadcasting.html) and do changes in 'weighted fitness', the output will remain the same"
   ]
  },
  {
   "cell_type": "markdown",
   "metadata": {
    "id": "03ROjCDosA1-"
   },
   "source": [
    "**Task4: Chain Rule in Action**\n",
    "\n",
    "AI Lab is running experiments to understand the effect of temperature (\n",
    "x) on a chemical reaction rate (y). The relationship is given as:\n",
    "$y = 2x^3 + 5x^2 - 3x + 7$\n",
    "\n"
   ]
  },
  {
   "cell_type": "code",
   "execution_count": 18,
   "metadata": {
    "id": "3A33YR0QvHjn"
   },
   "outputs": [
    {
     "name": "stdout",
     "output_type": "stream",
     "text": [
      "tensor(203., grad_fn=<AddBackward0>)\n"
     ]
    }
   ],
   "source": [
    "#1 Use PyTorch to compute 'y' for x = 4\n",
    "x = torch.tensor(4.0, requires_grad = True)\n",
    "y = 2*x**3 + 5*x**2 - 3*x + 7\n",
    "print(y)"
   ]
  },
  {
   "cell_type": "code",
   "execution_count": 19,
   "metadata": {
    "id": "-9I7GHC2vyi2"
   },
   "outputs": [
    {
     "name": "stdout",
     "output_type": "stream",
     "text": [
      "tensor(133.)\n"
     ]
    }
   ],
   "source": [
    "#2 Calculate dy/dx(gradient) using PyTorch's autograd\n",
    "y.backward(retain_graph = True)\n",
    "gradient = x.grad\n",
    "print(gradient)"
   ]
  },
  {
   "cell_type": "markdown",
   "metadata": {},
   "source": [
    "**KEY INSIGHTS**\n",
    "\n",
    "* If you need to call .backward() on the same graph multiple times, you need to specify retain_graph=True when calling .backward()\n",
    "* *WHY*? because in PyTorch, the computational graph used for the operation is freed by default to save memory"
   ]
  },
  {
   "cell_type": "markdown",
   "metadata": {
    "id": "cWs5gdmiylYe"
   },
   "source": [
    "\n",
    "\n",
    "---\n",
    "\n"
   ]
  },
  {
   "cell_type": "markdown",
   "metadata": {
    "id": "12iKFr_NwC7d"
   },
   "source": [
    "**Task5: Camera Calibration**\n",
    "\n",
    "AI Town’s surveillance cameras need to align their focus. You are given the following matrices for two cameras’ focus adjustments:"
   ]
  },
  {
   "cell_type": "code",
   "execution_count": 20,
   "metadata": {
    "id": "3syFy2GlwLRZ"
   },
   "outputs": [],
   "source": [
    "\n",
    "camera1 = torch.tensor([[1, 2], [3, 4]])\n",
    "camera2 = torch.tensor([[5, 6], [7, 8]])\n"
   ]
  },
  {
   "cell_type": "code",
   "execution_count": 21,
   "metadata": {
    "id": "xJH8T-85wO_B"
   },
   "outputs": [
    {
     "name": "stdout",
     "output_type": "stream",
     "text": [
      "tensor([[ 5, 12],\n",
      "        [21, 32]])\n"
     ]
    }
   ],
   "source": [
    "#1 Perform an element-wise multiplication of matrices ( Hadamard Product)\n",
    "elementwise_product = camera1 * camera2\n",
    "print(elementwise_product)"
   ]
  },
  {
   "cell_type": "code",
   "execution_count": 22,
   "metadata": {
    "id": "yL5otP3FwZY8"
   },
   "outputs": [
    {
     "name": "stdout",
     "output_type": "stream",
     "text": [
      "tensor([[19, 22],\n",
      "        [43, 50]])\n"
     ]
    }
   ],
   "source": [
    "#2 Compute Dot Product of the two matrices\n",
    "dot_product = torch.matmul(camera1, camera2)\n",
    "print(dot_product)"
   ]
  },
  {
   "cell_type": "code",
   "execution_count": 23,
   "metadata": {
    "id": "97dWTkQzxBaH"
   },
   "outputs": [
    {
     "name": "stdout",
     "output_type": "stream",
     "text": [
      "tensor(-2.)\n",
      "tensor(-2.0000)\n"
     ]
    }
   ],
   "source": [
    "#3 Compute the Determinant of each matrix\n",
    "det_camera1 = torch.det(camera1.float())\n",
    "det_camera2 = torch.det(camera2.float())\n",
    "print(det_camera1)\n",
    "print(det_camera2)"
   ]
  },
  {
   "cell_type": "markdown",
   "metadata": {
    "id": "dtQXmntaym2T"
   },
   "source": [
    "\n",
    "\n",
    "---\n",
    "\n"
   ]
  },
  {
   "cell_type": "markdown",
   "metadata": {
    "id": "tA6tObX4xFLE"
   },
   "source": [
    "**Task6: Neural Network Foundations**\n",
    "\n",
    "Our AI University uses simplified single neuron model (perceptron):\n",
    "$$y = wx + b$$"
   ]
  },
  {
   "cell_type": "code",
   "execution_count": 24,
   "metadata": {
    "id": "CAynFZXZxf53"
   },
   "outputs": [
    {
     "name": "stdout",
     "output_type": "stream",
     "text": [
      "tensor(2., requires_grad=True)\n",
      "tensor(1., requires_grad=True)\n",
      "tensor([1, 2, 3, 4])\n"
     ]
    }
   ],
   "source": [
    "#1 Create tensors for w  = 2, b = 1, x = [1, 2, 3, 4]\n",
    "w = torch.tensor(2.0, requires_grad=True)\n",
    "b = torch.tensor(1.0, requires_grad=True)\n",
    "\n",
    "x = torch.tensor([1, 2, 3, 4])\n",
    "print(w)\n",
    "print(b)\n",
    "print(x)"
   ]
  },
  {
   "cell_type": "code",
   "execution_count": 26,
   "metadata": {
    "id": "sAtHYFNDxqy-"
   },
   "outputs": [
    {
     "name": "stdout",
     "output_type": "stream",
     "text": [
      "tensor([3., 5., 7., 9.], grad_fn=<AddBackward0>)\n"
     ]
    }
   ],
   "source": [
    "#2 Compute tensors for y\n",
    "y = w*x+b\n",
    "print(y)"
   ]
  },
  {
   "cell_type": "markdown",
   "metadata": {},
   "source": [
    "PyTorch tracks gradients for all **requires_grad=True** tensors."
   ]
  },
  {
   "cell_type": "markdown",
   "metadata": {
    "id": "3PLDt7oKyoI6"
   },
   "source": [
    "\n",
    "\n",
    "---\n",
    "\n"
   ]
  }
 ],
 "metadata": {
  "colab": {
   "provenance": []
  },
  "kernelspec": {
   "display_name": "Python (torch_env)",
   "language": "python",
   "name": "torch_env"
  },
  "language_info": {
   "codemirror_mode": {
    "name": "ipython",
    "version": 3
   },
   "file_extension": ".py",
   "mimetype": "text/x-python",
   "name": "python",
   "nbconvert_exporter": "python",
   "pygments_lexer": "ipython3",
   "version": "3.10.18"
  }
 },
 "nbformat": 4,
 "nbformat_minor": 4
}

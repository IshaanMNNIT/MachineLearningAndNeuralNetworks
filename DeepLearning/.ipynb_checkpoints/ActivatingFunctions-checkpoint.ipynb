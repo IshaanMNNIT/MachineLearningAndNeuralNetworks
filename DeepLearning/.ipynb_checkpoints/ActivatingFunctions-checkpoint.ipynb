{
 "cells": [
  {
   "cell_type": "code",
   "execution_count": 1,
   "id": "2878a2dc-ce8e-4e04-894e-458738c5deb2",
   "metadata": {},
   "outputs": [],
   "source": [
    "import numpy as np\n"
   ]
  },
  {
   "cell_type": "code",
   "execution_count": 2,
   "id": "22ef8116-62af-42fb-8ce7-e200109840cc",
   "metadata": {},
   "outputs": [
    {
     "data": {
      "text/plain": [
       "array([0.11920292, 0.26894142, 0.5       , 0.73105858, 0.88079708,\n",
       "       0.9999546 , 1.        , 1.        ])"
      ]
     },
     "execution_count": 2,
     "metadata": {},
     "output_type": "execute_result"
    }
   ],
   "source": [
    "## Sigmoid\n",
    "def sigmoid(x) :\n",
    "    return 1 / (1 + np.exp(-x))\n",
    "values = np.array([-2, -1, 0, 1, 2, 10, 50, 500])\n",
    "sigmoid(values)"
   ]
  },
  {
   "cell_type": "code",
   "execution_count": 3,
   "id": "a74dfd82-9ec7-444c-842b-b1366909a632",
   "metadata": {},
   "outputs": [
    {
     "data": {
      "text/plain": [
       "array([0.00164625, 0.24432559, 0.6641458 , 0.08988236])"
      ]
     },
     "execution_count": 3,
     "metadata": {},
     "output_type": "execute_result"
    }
   ],
   "source": [
    "## Softmax\n",
    "def softmax(x):\n",
    "    exp_x = np.exp(x - np.max(x))  # Subtracting max for numerical stability\n",
    "    return exp_x / exp_x.sum(axis=0)\n",
    "\n",
    "values = np.array([3, 8, 9, 7])\n",
    "softmax(values)"
   ]
  },
  {
   "cell_type": "code",
   "execution_count": 4,
   "id": "dd97ae72-3a0b-478c-8e33-08f34b1e6a6d",
   "metadata": {},
   "outputs": [
    {
     "data": {
      "text/plain": [
       "array([-0.96402758, -0.76159416,  0.        ,  0.76159416,  0.96402758,\n",
       "        1.        ,  1.        ,  1.        ])"
      ]
     },
     "execution_count": 4,
     "metadata": {},
     "output_type": "execute_result"
    }
   ],
   "source": [
    "## Tanh\n",
    "def tanh(x):\n",
    "    return np.tanh(x)\n",
    "values = np.array([-2, -1, 0, 1, 2, 10, 50, 500])\n",
    "tanh(values)"
   ]
  },
  {
   "cell_type": "code",
   "execution_count": 5,
   "id": "e07b973c-d096-4795-bc17-25cafec70b39",
   "metadata": {},
   "outputs": [
    {
     "data": {
      "text/plain": [
       "array([  0,   0,   0,   7,   9, 100])"
      ]
     },
     "execution_count": 5,
     "metadata": {},
     "output_type": "execute_result"
    }
   ],
   "source": [
    "## ReLU Function\n",
    "def relu(x):\n",
    "    return np.maximum(0, x)\n",
    "\n",
    "values = np.array([-12, -8, 0, 7, 9, 100])\n",
    "relu(values)"
   ]
  },
  {
   "cell_type": "code",
   "execution_count": null,
   "id": "8d575b09-a27a-41b6-b550-80518ca69abd",
   "metadata": {},
   "outputs": [],
   "source": []
  }
 ],
 "metadata": {
  "kernelspec": {
   "display_name": "Python 3 (ipykernel)",
   "language": "python",
   "name": "python3"
  },
  "language_info": {
   "codemirror_mode": {
    "name": "ipython",
    "version": 3
   },
   "file_extension": ".py",
   "mimetype": "text/x-python",
   "name": "python",
   "nbconvert_exporter": "python",
   "pygments_lexer": "ipython3",
   "version": "3.12.7"
  }
 },
 "nbformat": 4,
 "nbformat_minor": 5
}

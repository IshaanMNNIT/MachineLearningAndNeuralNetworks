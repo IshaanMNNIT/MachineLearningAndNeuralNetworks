{
 "cells": [
  {
   "cell_type": "code",
   "execution_count": 1,
   "id": "5651c3b6-3bbf-492f-a3cc-fd26e1ccb442",
   "metadata": {},
   "outputs": [],
   "source": [
    "import torch"
   ]
  },
  {
   "cell_type": "code",
   "execution_count": 2,
   "id": "78876b5e-869e-4645-a1ab-6308a77cf2aa",
   "metadata": {},
   "outputs": [
    {
     "data": {
      "text/plain": [
       "tensor(9)"
      ]
     },
     "execution_count": 2,
     "metadata": {},
     "output_type": "execute_result"
    }
   ],
   "source": [
    "## Single Value in tensor\n",
    "torch.tensor(9)"
   ]
  },
  {
   "cell_type": "code",
   "execution_count": 3,
   "id": "4efb9cdc-3daf-4fba-b1d0-062dbdba6c41",
   "metadata": {},
   "outputs": [
    {
     "data": {
      "text/plain": [
       "tensor([100, 120,  90,  75])"
      ]
     },
     "execution_count": 3,
     "metadata": {},
     "output_type": "execute_result"
    }
   ],
   "source": [
    "## Array as tensor\n",
    "revenue = torch.tensor([100, 120, 90, 75])\n",
    "revenue"
   ]
  },
  {
   "cell_type": "code",
   "execution_count": 5,
   "id": "dc0820f3-431b-4475-9dbe-95f86657df74",
   "metadata": {},
   "outputs": [
    {
     "data": {
      "text/plain": [
       "tensor(120)"
      ]
     },
     "execution_count": 5,
     "metadata": {},
     "output_type": "execute_result"
    }
   ],
   "source": [
    "revenue[1]"
   ]
  },
  {
   "cell_type": "code",
   "execution_count": 7,
   "id": "eb499e71-03dd-4b47-b6e7-a19bb1353829",
   "metadata": {},
   "outputs": [
    {
     "data": {
      "text/plain": [
       "tensor([100, 120,  90])"
      ]
     },
     "execution_count": 7,
     "metadata": {},
     "output_type": "execute_result"
    }
   ],
   "source": [
    "revenue[:3]"
   ]
  },
  {
   "cell_type": "code",
   "execution_count": 8,
   "id": "b4785343-d781-4967-883c-d28f4584981f",
   "metadata": {},
   "outputs": [
    {
     "data": {
      "text/plain": [
       "tensor([ 80, 117,  71,  68])"
      ]
     },
     "execution_count": 8,
     "metadata": {},
     "output_type": "execute_result"
    }
   ],
   "source": [
    "expenses = torch.tensor([80, 117, 71, 68])\n",
    "expenses"
   ]
  },
  {
   "cell_type": "code",
   "execution_count": 9,
   "id": "32c3cb70-8e58-4472-b8be-a776477ad7a6",
   "metadata": {},
   "outputs": [
    {
     "data": {
      "text/plain": [
       "tensor([20,  3, 19,  7])"
      ]
     },
     "execution_count": 9,
     "metadata": {},
     "output_type": "execute_result"
    }
   ],
   "source": [
    "## Element wise subtraction like Matrix Subtraction , Addition\n",
    "\n",
    "profit = revenue - expenses\n",
    "profit"
   ]
  },
  {
   "cell_type": "code",
   "execution_count": 10,
   "id": "a6b3ca4c-6cc1-4c86-bff1-810da7ba5db1",
   "metadata": {},
   "outputs": [
    {
     "data": {
      "text/plain": [
       "tensor([20.0000,  2.5000, 21.1111,  9.3333])"
      ]
     },
     "execution_count": 10,
     "metadata": {},
     "output_type": "execute_result"
    }
   ],
   "source": [
    "profit_pct = profit * 100 / revenue\n",
    "profit_pct"
   ]
  },
  {
   "cell_type": "code",
   "execution_count": 11,
   "id": "c1ad3dff-0abd-4c2e-a37d-8da2edc64cc3",
   "metadata": {},
   "outputs": [],
   "source": [
    "## Matrices as Tensors\n",
    "# Sales data for Quarter 1 (Matrix 1)\n",
    "# Rows represent different products, columns represent different regions\n",
    "\n",
    "q1 = torch.tensor([\n",
    "    [200, 220, 250],  # Product A (iPhone)\n",
    "    [150, 180, 210],  # Product B (iPad)\n",
    "    [300, 330, 360]   # Product C (MacBook)\n",
    "])\n",
    "\n",
    "q2 = torch.tensor([\n",
    "    [209, 231, 259],  # Product A (iPhone)\n",
    "    [155, 192, 222],  # Product B (iPad)\n",
    "    [310, 340, 375]   # Product C (MacBook)\n",
    "])"
   ]
  },
  {
   "cell_type": "code",
   "execution_count": 12,
   "id": "13c61a21-ef53-49f4-b66c-c051794212a9",
   "metadata": {},
   "outputs": [
    {
     "data": {
      "text/plain": [
       "tensor([[409, 451, 509],\n",
       "        [305, 372, 432],\n",
       "        [610, 670, 735]])"
      ]
     },
     "execution_count": 12,
     "metadata": {},
     "output_type": "execute_result"
    }
   ],
   "source": [
    "# total revenue from Q1 and Q2\n",
    "q1 + q2"
   ]
  },
  {
   "cell_type": "code",
   "execution_count": 13,
   "id": "1b50c181-99a2-4da1-aca3-dfacf3446ddb",
   "metadata": {},
   "outputs": [
    {
     "data": {
      "text/plain": [
       "tensor([[ 9, 11,  9],\n",
       "        [ 5, 12, 12],\n",
       "        [10, 10, 15]])"
      ]
     },
     "execution_count": 13,
     "metadata": {},
     "output_type": "execute_result"
    }
   ],
   "source": [
    "# Revenue growth in Q2 as compared to Q1\n",
    "q2 - q1"
   ]
  },
  {
   "cell_type": "code",
   "execution_count": 14,
   "id": "94bc7a12-e509-45d4-b93b-cc2ee1fdf571",
   "metadata": {},
   "outputs": [
    {
     "data": {
      "text/plain": [
       "tensor([[4.5000, 5.0000, 3.6000],\n",
       "        [3.3333, 6.6667, 5.7143],\n",
       "        [3.3333, 3.0303, 4.1667]])"
      ]
     },
     "execution_count": 14,
     "metadata": {},
     "output_type": "execute_result"
    }
   ],
   "source": [
    "# % sales units growth in q2 compared to q1\n",
    "(q2-q1)*100/q1"
   ]
  },
  {
   "cell_type": "code",
   "execution_count": 15,
   "id": "cc5b6d36-c64e-4b15-9c15-947fce8ac4a7",
   "metadata": {},
   "outputs": [
    {
     "data": {
      "text/plain": [
       "tensor([[20., 22., 25.],\n",
       "        [15., 18., 21.],\n",
       "        [30., 33., 36.]])"
      ]
     },
     "execution_count": 15,
     "metadata": {},
     "output_type": "execute_result"
    }
   ],
   "source": [
    "## Returned Items\n",
    "# assume that 10% is the return rate across the board. \n",
    "return_rate = 0.1\n",
    "# Find out how many items are returned exactly per product, per region in Q1\n",
    "return_rate * q1"
   ]
  },
  {
   "cell_type": "markdown",
   "id": "5465dcb4-5203-49f4-9ff8-b0ddc2901e39",
   "metadata": {},
   "source": [
    "* 20 iPhones were returned in USA, 22 in India and 25 in China\n",
    "* 15 iPads were returned in USA, 18 in India and 21 in China\n",
    "* 30 Macbooks were returned in USA, 33 in India and 36 in China"
   ]
  },
  {
   "cell_type": "code",
   "execution_count": 16,
   "id": "f4b8d6a2-d8a1-47e1-a5e6-c6bc22b1a00d",
   "metadata": {},
   "outputs": [
    {
     "data": {
      "text/plain": [
       "tensor([[ 6000,  5940,  6250],\n",
       "        [ 3000,  3240,  3570],\n",
       "        [13500, 12540, 14040]])"
      ]
     },
     "execution_count": 16,
     "metadata": {},
     "output_type": "execute_result"
    }
   ],
   "source": [
    "## Profit Amount\n",
    "# profit per unit is given product and region wise\n",
    "# calculate total profit for all units per region, per product\n",
    "profit_per_unit = torch.tensor([\n",
    "    [30,27,25],\n",
    "    [20,18,17],\n",
    "    [45,38,39]\n",
    "])\n",
    "\n",
    "# for this we can use *element wise multiplication* (Hadamard Multiplication)\n",
    "q1 * profit_per_unit"
   ]
  },
  {
   "cell_type": "markdown",
   "id": "5f4802d6-b357-4e9e-a4fa-f70fc69019c3",
   "metadata": {},
   "source": [
    "## Product Revenue"
   ]
  },
  {
   "cell_type": "code",
   "execution_count": 17,
   "id": "87e72f9b-87dd-49ef-92de-1a18b9c0bd46",
   "metadata": {},
   "outputs": [
    {
     "data": {
      "text/plain": [
       "tensor([[1100,  450, 1500]])"
      ]
     },
     "execution_count": 17,
     "metadata": {},
     "output_type": "execute_result"
    }
   ],
   "source": [
    "product_prices = torch.tensor([[1100, 450, 1500]])\n",
    "product_prices"
   ]
  },
  {
   "cell_type": "code",
   "execution_count": 18,
   "id": "4e1e3dba-ea1a-4d48-a43c-9fc088a42094",
   "metadata": {},
   "outputs": [
    {
     "data": {
      "text/plain": [
       "tensor([[200, 220, 250],\n",
       "        [150, 180, 210],\n",
       "        [300, 330, 360]])"
      ]
     },
     "execution_count": 18,
     "metadata": {},
     "output_type": "execute_result"
    }
   ],
   "source": [
    "q1"
   ]
  },
  {
   "cell_type": "code",
   "execution_count": 22,
   "id": "0eefb23e-3b16-4890-9181-7c66a70aa89d",
   "metadata": {},
   "outputs": [
    {
     "data": {
      "text/plain": [
       "tensor([[737500, 818000, 909500]])"
      ]
     },
     "execution_count": 22,
     "metadata": {},
     "output_type": "execute_result"
    }
   ],
   "source": [
    "revenue_per_region_matrix = torch.matmul(product_prices, q1)\n",
    "revenue_per_region_matrix ## Gives a 2D matrix"
   ]
  },
  {
   "cell_type": "code",
   "execution_count": 23,
   "id": "207b623b-2db9-4c84-baf1-82294488a5bb",
   "metadata": {},
   "outputs": [
    {
     "data": {
      "text/plain": [
       "tensor([[1100,  450, 1500]])"
      ]
     },
     "execution_count": 23,
     "metadata": {},
     "output_type": "execute_result"
    }
   ],
   "source": [
    "product_prices"
   ]
  },
  {
   "cell_type": "code",
   "execution_count": 24,
   "id": "f3ce10ce-993d-4a5c-9371-5a8f6db11eb4",
   "metadata": {},
   "outputs": [
    {
     "data": {
      "text/plain": [
       "tensor([[1100],\n",
       "        [ 450],\n",
       "        [1500]])"
      ]
     },
     "execution_count": 24,
     "metadata": {},
     "output_type": "execute_result"
    }
   ],
   "source": [
    "## Transpose\n",
    "product_prices.t()"
   ]
  },
  {
   "cell_type": "code",
   "execution_count": 27,
   "id": "dfe2c8ac-47c7-4d01-8dad-1760959965f9",
   "metadata": {},
   "outputs": [
    {
     "data": {
      "text/plain": [
       "tensor([[220000, 242000, 275000],\n",
       "        [ 67500,  81000,  94500],\n",
       "        [450000, 495000, 540000]])"
      ]
     },
     "execution_count": 27,
     "metadata": {},
     "output_type": "execute_result"
    }
   ],
   "source": [
    "prices_by_region = q1*product_prices.t()\n",
    "prices_by_region"
   ]
  },
  {
   "cell_type": "code",
   "execution_count": 28,
   "id": "5e2ee835-9128-48a6-a650-75bc35ffda47",
   "metadata": {},
   "outputs": [
    {
     "data": {
      "text/plain": [
       "tensor([737500, 818000, 909500])"
      ]
     },
     "execution_count": 28,
     "metadata": {},
     "output_type": "execute_result"
    }
   ],
   "source": [
    "## Flattens the matrix by adding column elements and converting into 1D Array\n",
    "prices_by_region.sum(dim=0)"
   ]
  },
  {
   "cell_type": "markdown",
   "id": "e23fc2ec-8575-4f94-847b-41f0b3c319af",
   "metadata": {},
   "source": [
    "## ******************************************************************************************************************************************************"
   ]
  },
  {
   "cell_type": "markdown",
   "id": "25cb642c-724a-4467-aab0-c117016f17f2",
   "metadata": {},
   "source": [
    "## Portfolio Analysis Use Case"
   ]
  },
  {
   "cell_type": "code",
   "execution_count": 29,
   "id": "4d887f11-66b5-43a3-b724-b7f298bf9541",
   "metadata": {},
   "outputs": [
    {
     "data": {
      "text/plain": [
       "tensor([[200.5000, 186.0000, 167.0000],\n",
       "        [187.5000, 175.4000, 163.0000],\n",
       "        [210.0000, 193.8000, 176.0000]])"
      ]
     },
     "execution_count": 29,
     "metadata": {},
     "output_type": "execute_result"
    }
   ],
   "source": [
    "# Create portfolio composition matrix (3x3)\n",
    "# Rows: Different portfolios (P1, P2, P3)\n",
    "# Columns: Asset allocation (Stocks, Bonds, Real Estate)\n",
    "portfolio_composition = torch.tensor([\n",
    "    [100.0, 50.0, 30.0],  # P1\n",
    "    [80.0, 70.0, 20.0],   # P2\n",
    "    [60.0, 40.0, 90.0]    # P3\n",
    "], dtype=torch.float32)\n",
    "\n",
    "# Create price change matrix (3x3)\n",
    "# Rows: Assets (Stocks, Bonds, Real Estate)\n",
    "# Columns: Economic scenarios (Growth, Neutral, Recession)\n",
    "price_changes = torch.tensor([\n",
    "    [1.15, 1.05, 0.85],  # Stocks\n",
    "    [1.05, 1.02, 1.10],  # Bonds\n",
    "    [1.10, 1.00, 0.90]   # Real Estate\n",
    "], dtype=torch.float32)\n",
    "\n",
    "values = torch.matmul(portfolio_composition, price_changes)\n",
    "values"
   ]
  },
  {
   "cell_type": "code",
   "execution_count": 30,
   "id": "7b3efc3e-5366-4bd5-8331-50d007295f41",
   "metadata": {},
   "outputs": [
    {
     "data": {
      "text/plain": [
       "tensor([[16641.5000, 15438.0000, 13861.0000],\n",
       "        [15562.5000, 14558.1992, 13529.0000],\n",
       "        [17430.0000, 16085.3994, 14608.0000]])"
      ]
     },
     "execution_count": 30,
     "metadata": {},
     "output_type": "execute_result"
    }
   ],
   "source": [
    "# Assume that this portfolio is in USD. You want to convert that to INR \n",
    "# Assume USD to INR conversion rate to be 83\n",
    "\n",
    "values_inr = 83*values\n",
    "values_inr"
   ]
  },
  {
   "cell_type": "markdown",
   "id": "808c55f1-1a71-4745-b1a3-348d5d47b4e8",
   "metadata": {},
   "source": [
    "## GPU ACCELERATION"
   ]
  },
  {
   "cell_type": "code",
   "execution_count": 31,
   "id": "4cd2093c-21a9-4336-b2b7-3e290c135412",
   "metadata": {},
   "outputs": [
    {
     "data": {
      "text/plain": [
       "True"
      ]
     },
     "execution_count": 31,
     "metadata": {},
     "output_type": "execute_result"
    }
   ],
   "source": [
    "torch.cuda.is_available()"
   ]
  },
  {
   "cell_type": "code",
   "execution_count": 32,
   "id": "bf4b6dd9-0898-4955-b11d-64828ad38781",
   "metadata": {},
   "outputs": [
    {
     "name": "stdout",
     "output_type": "stream",
     "text": [
      "Using GPU for large-scale customer data processing\n"
     ]
    }
   ],
   "source": [
    "if torch.cuda.is_available():\n",
    "    device = torch.device(\"cuda\")\n",
    "    print(\"Using GPU for large-scale customer data processing\")\n",
    "else:\n",
    "    device = torch.device(\"cpu\")\n",
    "    print(\"Using CPU for customer data processing\")"
   ]
  },
  {
   "cell_type": "code",
   "execution_count": 34,
   "id": "d9269fc4-e310-44e4-8a26-08f026264ce8",
   "metadata": {},
   "outputs": [
    {
     "data": {
      "text/plain": [
       "torch.Size([1000000, 3])"
      ]
     },
     "execution_count": 34,
     "metadata": {},
     "output_type": "execute_result"
    }
   ],
   "source": [
    "# Simulating customer data with 1 million customers and 3 features (age, spending score, income)\n",
    "customer_data = torch.rand(1_000_000 , 3 , device = device)\n",
    "customer_data.shape"
   ]
  },
  {
   "cell_type": "code",
   "execution_count": 35,
   "id": "073c9894-0b19-4581-a8f3-8ed9dabcb294",
   "metadata": {},
   "outputs": [
    {
     "data": {
      "text/plain": [
       "tensor([[0.4676, 0.8382, 0.2435],\n",
       "        [0.9134, 0.9942, 0.3331],\n",
       "        [0.9660, 0.5330, 0.3128],\n",
       "        [0.1389, 0.6401, 0.5609],\n",
       "        [0.9218, 0.1357, 0.1818]], device='cuda:0')"
      ]
     },
     "execution_count": 35,
     "metadata": {},
     "output_type": "execute_result"
    }
   ],
   "source": [
    "customer_data[:5]"
   ]
  },
  {
   "cell_type": "code",
   "execution_count": 37,
   "id": "6c1aa328-44bf-4855-a2e3-77a940204c8a",
   "metadata": {},
   "outputs": [
    {
     "data": {
      "text/plain": [
       "tensor([[0.4676, 0.8382, 0.2435],\n",
       "        [0.9134, 0.9942, 0.3331],\n",
       "        [0.9660, 0.5330, 0.3128],\n",
       "        ...,\n",
       "        [0.9694, 0.6873, 0.5754],\n",
       "        [0.0568, 0.7700, 0.3619],\n",
       "        [0.8309, 0.5631, 0.4559]], device='cuda:0')"
      ]
     },
     "execution_count": 37,
     "metadata": {},
     "output_type": "execute_result"
    }
   ],
   "source": [
    "high_spending_customers = customer_data[customer_data[:,1] > 0.5]\n",
    "high_spending_customers"
   ]
  },
  {
   "cell_type": "code",
   "execution_count": 38,
   "id": "79ddc28a-da5c-436a-b333-a38e90fd32ae",
   "metadata": {},
   "outputs": [
    {
     "data": {
      "text/plain": [
       "torch.Size([500549, 3])"
      ]
     },
     "execution_count": 38,
     "metadata": {},
     "output_type": "execute_result"
    }
   ],
   "source": [
    "high_spending_customers.shape"
   ]
  },
  {
   "cell_type": "code",
   "execution_count": 39,
   "id": "83a0b444-c6e2-4db4-a054-dc5d8bf61fcb",
   "metadata": {},
   "outputs": [],
   "source": [
    "high_spending_customers_cpu = high_spending_customers.to(\"cpu\")"
   ]
  }
 ],
 "metadata": {
  "kernelspec": {
   "display_name": "Python (torch_env)",
   "language": "python",
   "name": "torch_env"
  },
  "language_info": {
   "codemirror_mode": {
    "name": "ipython",
    "version": 3
   },
   "file_extension": ".py",
   "mimetype": "text/x-python",
   "name": "python",
   "nbconvert_exporter": "python",
   "pygments_lexer": "ipython3",
   "version": "3.10.18"
  }
 },
 "nbformat": 4,
 "nbformat_minor": 5
}

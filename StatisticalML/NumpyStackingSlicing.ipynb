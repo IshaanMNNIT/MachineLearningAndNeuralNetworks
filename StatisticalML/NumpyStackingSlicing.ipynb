{
 "cells": [
  {
   "cell_type": "code",
   "execution_count": 1,
   "id": "d618383e-cedd-492a-9353-b529cb14569e",
   "metadata": {},
   "outputs": [],
   "source": [
    "import numpy as np"
   ]
  },
  {
   "cell_type": "code",
   "execution_count": 2,
   "id": "71249ac2-f94c-4acc-b2a1-0bd71dbfa70f",
   "metadata": {},
   "outputs": [
    {
     "data": {
      "text/plain": [
       "array([6, 7])"
      ]
     },
     "execution_count": 2,
     "metadata": {},
     "output_type": "execute_result"
    }
   ],
   "source": [
    "a = np.array([6,7,8,9])\n",
    "# 0 1 2 3 (index)\n",
    "# 6 7 8 9 (elements)\n",
    "a[0:2] # [start,stop)"
   ]
  },
  {
   "cell_type": "code",
   "execution_count": 3,
   "id": "51399154-6ca8-49bb-a4eb-fbf784a5419e",
   "metadata": {},
   "outputs": [
    {
     "data": {
      "text/plain": [
       "array([8, 9])"
      ]
     },
     "execution_count": 3,
     "metadata": {},
     "output_type": "execute_result"
    }
   ],
   "source": [
    "a[2:]"
   ]
  },
  {
   "cell_type": "code",
   "execution_count": 4,
   "id": "ec9cdbef-6be9-4bb7-98af-7189f60fc808",
   "metadata": {},
   "outputs": [
    {
     "data": {
      "text/plain": [
       "9"
      ]
     },
     "execution_count": 4,
     "metadata": {},
     "output_type": "execute_result"
    }
   ],
   "source": [
    "a[-1]"
   ]
  },
  {
   "cell_type": "code",
   "execution_count": 5,
   "id": "446516f7-5b03-4f32-97a4-1e170e3bbb53",
   "metadata": {},
   "outputs": [
    {
     "data": {
      "text/plain": [
       "array([8, 9])"
      ]
     },
     "execution_count": 5,
     "metadata": {},
     "output_type": "execute_result"
    }
   ],
   "source": [
    "a[-2:]"
   ]
  },
  {
   "cell_type": "code",
   "execution_count": 6,
   "id": "abbd28af-e6b9-4cdb-9151-de4a68be55ee",
   "metadata": {},
   "outputs": [],
   "source": [
    "b = np.array([[1, 2, 3], \n",
    "              [4, 5, 6], \n",
    "              [7, 8, 9]])"
   ]
  },
  {
   "cell_type": "code",
   "execution_count": 7,
   "id": "991b79a9-4de9-4771-a974-aa665977bfe3",
   "metadata": {},
   "outputs": [
    {
     "data": {
      "text/plain": [
       "6"
      ]
     },
     "execution_count": 7,
     "metadata": {},
     "output_type": "execute_result"
    }
   ],
   "source": [
    "b[1,2]"
   ]
  },
  {
   "cell_type": "code",
   "execution_count": 8,
   "id": "ab7a5649-02ba-4f84-b345-71dc590efeec",
   "metadata": {},
   "outputs": [
    {
     "data": {
      "text/plain": [
       "6"
      ]
     },
     "execution_count": 8,
     "metadata": {},
     "output_type": "execute_result"
    }
   ],
   "source": [
    "b[1][2]"
   ]
  },
  {
   "cell_type": "code",
   "execution_count": 9,
   "id": "1d7758b2-4ba1-4df7-93f7-c31d513d43fd",
   "metadata": {},
   "outputs": [
    {
     "data": {
      "text/plain": [
       "7"
      ]
     },
     "execution_count": 9,
     "metadata": {},
     "output_type": "execute_result"
    }
   ],
   "source": [
    "b[2,0]"
   ]
  },
  {
   "cell_type": "code",
   "execution_count": 10,
   "id": "f8029308-2667-4366-b900-b4c48b46fe83",
   "metadata": {},
   "outputs": [
    {
     "data": {
      "text/plain": [
       "array([3, 6])"
      ]
     },
     "execution_count": 10,
     "metadata": {},
     "output_type": "execute_result"
    }
   ],
   "source": [
    "b[0:2,2]"
   ]
  },
  {
   "cell_type": "code",
   "execution_count": 11,
   "id": "83f19385-c57f-4384-9a2b-2e4c0f54b627",
   "metadata": {},
   "outputs": [
    {
     "data": {
      "text/plain": [
       "array([7, 8, 9])"
      ]
     },
     "execution_count": 11,
     "metadata": {},
     "output_type": "execute_result"
    }
   ],
   "source": [
    "b[-1]"
   ]
  },
  {
   "cell_type": "code",
   "execution_count": 12,
   "id": "32435dd6-94e4-4ad1-b5a8-829ec949e443",
   "metadata": {},
   "outputs": [
    {
     "data": {
      "text/plain": [
       "array([7, 8])"
      ]
     },
     "execution_count": 12,
     "metadata": {},
     "output_type": "execute_result"
    }
   ],
   "source": [
    "b[-1, 0:2]"
   ]
  },
  {
   "cell_type": "code",
   "execution_count": 13,
   "id": "ccf4d4f3-de26-4b2c-bfaf-f8af7d828238",
   "metadata": {},
   "outputs": [
    {
     "data": {
      "text/plain": [
       "array([[2, 3],\n",
       "       [5, 6],\n",
       "       [8, 9]])"
      ]
     },
     "execution_count": 13,
     "metadata": {},
     "output_type": "execute_result"
    }
   ],
   "source": [
    "b[:, 1:3]"
   ]
  },
  {
   "cell_type": "code",
   "execution_count": 14,
   "id": "b71dba28-d910-4a4e-9795-362e98817b8b",
   "metadata": {},
   "outputs": [],
   "source": [
    "# Customer ID, Name\n",
    "c = np.array([\n",
    "    [101, 'Mira'],\n",
    "    [102, 'Abdul'],\n",
    "    [103, 'Andrea']\n",
    "])\n",
    "# Customer Id, Purchase Amount, Purchase Date\n",
    "d = np.array([\n",
    "    [101, 250.50, '2023-08-01'],\n",
    "    [102, 150.00, '2023-08-02'],\n",
    "    [103, 300.75, '2023-08-01']\n",
    "])"
   ]
  },
  {
   "cell_type": "code",
   "execution_count": 16,
   "id": "6b1cf12f-5c44-48b0-8873-f48b4f97c6bd",
   "metadata": {},
   "outputs": [
    {
     "data": {
      "text/plain": [
       "array([['101', 'Mira', '101', '250.5', '2023-08-01'],\n",
       "       ['102', 'Abdul', '102', '150.0', '2023-08-02'],\n",
       "       ['103', 'Andrea', '103', '300.75', '2023-08-01']], dtype='<U32')"
      ]
     },
     "execution_count": 16,
     "metadata": {},
     "output_type": "execute_result"
    }
   ],
   "source": [
    "np.hstack((c, d)) # Just stacks it horizontally"
   ]
  },
  {
   "cell_type": "code",
   "execution_count": 17,
   "id": "dab46c02-9c19-4101-966a-b2252dbb8012",
   "metadata": {},
   "outputs": [
    {
     "data": {
      "text/plain": [
       "array([['101', 'Mira'],\n",
       "       ['102', 'Abdul'],\n",
       "       ['103', 'Andrea']], dtype='<U11')"
      ]
     },
     "execution_count": 17,
     "metadata": {},
     "output_type": "execute_result"
    }
   ],
   "source": [
    "c"
   ]
  },
  {
   "cell_type": "code",
   "execution_count": 18,
   "id": "0aa2cc67-8c4a-40b8-90d2-0411348231a6",
   "metadata": {},
   "outputs": [],
   "source": [
    "e = np.array([\n",
    "    [104, 'Venkat'],\n",
    "    [105, 'John'],\n",
    "    [106, 'Kathy'],\n",
    "])"
   ]
  },
  {
   "cell_type": "code",
   "execution_count": 19,
   "id": "95255b1c-3bec-4e91-bdb9-5d1fadcd6275",
   "metadata": {},
   "outputs": [
    {
     "data": {
      "text/plain": [
       "array([['101', 'Mira'],\n",
       "       ['102', 'Abdul'],\n",
       "       ['103', 'Andrea'],\n",
       "       ['104', 'Venkat'],\n",
       "       ['105', 'John'],\n",
       "       ['106', 'Kathy']], dtype='<U11')"
      ]
     },
     "execution_count": 19,
     "metadata": {},
     "output_type": "execute_result"
    }
   ],
   "source": [
    "f = np.vstack((c,e))\n",
    "f"
   ]
  },
  {
   "cell_type": "code",
   "execution_count": 20,
   "id": "041ea1dd-8af9-4956-bcaf-a7501224ffc3",
   "metadata": {},
   "outputs": [
    {
     "data": {
      "text/plain": [
       "[array([['101', 'Mohan', '250.5'],\n",
       "        ['102', 'Bob', '150.0'],\n",
       "        ['103', 'Fatima', '300.75'],\n",
       "        ['104', 'David', '400.2'],\n",
       "        ['105', 'Aryan', '330.1']], dtype='<U32'),\n",
       " array([['2023-08-01'],\n",
       "        ['2023-08-02'],\n",
       "        ['2023-08-01'],\n",
       "        ['2023-08-03'],\n",
       "        ['2023-08-04']], dtype='<U32')]"
      ]
     },
     "execution_count": 20,
     "metadata": {},
     "output_type": "execute_result"
    }
   ],
   "source": [
    "transactions = np.array([\n",
    "    [101, 'Mohan', 250.50, '2023-08-01'],\n",
    "    [102, 'Bob', 150.00, '2023-08-02'],\n",
    "    [103, 'Fatima', 300.75, '2023-08-01'],\n",
    "    [104, 'David', 400.20, '2023-08-03'],\n",
    "    [105, 'Aryan', 330.1, '2023-08-04'],\n",
    "])\n",
    "\n",
    "np.hsplit(transactions, [3])"
   ]
  },
  {
   "cell_type": "code",
   "execution_count": 21,
   "id": "37166dd8-3c42-49cc-a035-e16871ae7bc3",
   "metadata": {},
   "outputs": [
    {
     "data": {
      "text/plain": [
       "[array([['101', 'Mohan', '250.5', '2023-08-01'],\n",
       "        ['102', 'Bob', '150.0', '2023-08-02'],\n",
       "        ['103', 'Fatima', '300.75', '2023-08-01'],\n",
       "        ['104', 'David', '400.2', '2023-08-03']], dtype='<U32'),\n",
       " array([['105', 'Aryan', '330.1', '2023-08-04']], dtype='<U32')]"
      ]
     },
     "execution_count": 21,
     "metadata": {},
     "output_type": "execute_result"
    }
   ],
   "source": [
    "np.vsplit(transactions, [4])"
   ]
  },
  {
   "cell_type": "code",
   "execution_count": 22,
   "id": "1924b4f3-58aa-4747-b898-418e53af7672",
   "metadata": {},
   "outputs": [
    {
     "data": {
      "text/plain": [
       "array([ True, False, False,  True, False])"
      ]
     },
     "execution_count": 22,
     "metadata": {},
     "output_type": "execute_result"
    }
   ],
   "source": [
    "monthly_sales = np.array([30, 33, 35, 28, 42])\n",
    "\n",
    "result = monthly_sales < 32\n",
    "result"
   ]
  },
  {
   "cell_type": "code",
   "execution_count": 23,
   "id": "dbed54dd-2e6a-4e00-92f8-1e28aab228f0",
   "metadata": {},
   "outputs": [
    {
     "data": {
      "text/plain": [
       "array([30, 28])"
      ]
     },
     "execution_count": 23,
     "metadata": {},
     "output_type": "execute_result"
    }
   ],
   "source": [
    "monthly_sales[result]"
   ]
  },
  {
   "cell_type": "code",
   "execution_count": 24,
   "id": "1f8654f7-08fa-4a19-b0df-a30cce7d29c3",
   "metadata": {},
   "outputs": [
    {
     "data": {
      "text/plain": [
       "array([-1, 33, 35, -1, 42])"
      ]
     },
     "execution_count": 24,
     "metadata": {},
     "output_type": "execute_result"
    }
   ],
   "source": [
    "monthly_sales[result] = -1\n",
    "monthly_sales"
   ]
  },
  {
   "cell_type": "code",
   "execution_count": 26,
   "id": "85f586e6-ef90-4b69-9cce-80f379590d19",
   "metadata": {},
   "outputs": [
    {
     "data": {
      "text/plain": [
       "4"
      ]
     },
     "execution_count": 26,
     "metadata": {},
     "output_type": "execute_result"
    }
   ],
   "source": [
    "index = np.argmax(monthly_sales) # Index with max value\n",
    "index"
   ]
  },
  {
   "cell_type": "code",
   "execution_count": 27,
   "id": "18708d8c-754f-4e3e-9873-beb013a6a836",
   "metadata": {},
   "outputs": [
    {
     "data": {
      "text/plain": [
       "array([['101', 'Mohan', '250.5', '2023-08-01'],\n",
       "       ['102', 'Bob', '150.0', '2023-08-02'],\n",
       "       ['103', 'Fatima', '300.75', '2023-08-01'],\n",
       "       ['104', 'David', '400.2', '2023-08-03'],\n",
       "       ['105', 'Aryan', '330.1', '2023-08-04']], dtype='<U32')"
      ]
     },
     "execution_count": 27,
     "metadata": {},
     "output_type": "execute_result"
    }
   ],
   "source": [
    "transactions"
   ]
  },
  {
   "cell_type": "code",
   "execution_count": 28,
   "id": "d3083cc6-a798-41b4-957e-c7e0493510e4",
   "metadata": {},
   "outputs": [
    {
     "data": {
      "text/plain": [
       "array(['250.5', '150.0', '300.75', '400.2', '330.1'], dtype='<U32')"
      ]
     },
     "execution_count": 28,
     "metadata": {},
     "output_type": "execute_result"
    }
   ],
   "source": [
    "transactions[:,2]"
   ]
  },
  {
   "cell_type": "code",
   "execution_count": 29,
   "id": "2782a695-2d61-4289-9ed8-85b8515a7aac",
   "metadata": {},
   "outputs": [
    {
     "data": {
      "text/plain": [
       "array([250.5 , 150.  , 300.75, 400.2 , 330.1 ])"
      ]
     },
     "execution_count": 29,
     "metadata": {},
     "output_type": "execute_result"
    }
   ],
   "source": [
    "transactions[:,2].astype(float)"
   ]
  },
  {
   "cell_type": "code",
   "execution_count": 31,
   "id": "e31045a6-3d18-4ea7-99d2-7781c3b85475",
   "metadata": {},
   "outputs": [
    {
     "data": {
      "text/plain": [
       "3"
      ]
     },
     "execution_count": 31,
     "metadata": {},
     "output_type": "execute_result"
    }
   ],
   "source": [
    "# transactions[:,2].astype(float) = array([250.5 , 150.  , 300.75, 400.2 , 330.1 ])\n",
    "t_index = np.argmax(transactions[:,2].astype(float))\n",
    "t_index"
   ]
  },
  {
   "cell_type": "code",
   "execution_count": 32,
   "id": "56f7e9af-c627-40a8-b1e3-3f69ed7eb269",
   "metadata": {},
   "outputs": [
    {
     "data": {
      "text/plain": [
       "array(['104', 'David', '400.2', '2023-08-03'], dtype='<U32')"
      ]
     },
     "execution_count": 32,
     "metadata": {},
     "output_type": "execute_result"
    }
   ],
   "source": [
    "transactions[t_index]"
   ]
  },
  {
   "cell_type": "code",
   "execution_count": 33,
   "id": "a42285e4-a794-42b4-8856-379f35da9481",
   "metadata": {},
   "outputs": [
    {
     "data": {
      "text/plain": [
       "array([['101', 'Mohan', '250.5', '2023-08-01']], dtype='<U32')"
      ]
     },
     "execution_count": 33,
     "metadata": {},
     "output_type": "execute_result"
    }
   ],
   "source": [
    "transactions[transactions[:,0]==\"101\"]"
   ]
  },
  {
   "cell_type": "code",
   "execution_count": null,
   "id": "e694114f-1a29-47ad-92ce-c7aae693ea4c",
   "metadata": {},
   "outputs": [],
   "source": []
  }
 ],
 "metadata": {
  "kernelspec": {
   "display_name": "Python 3 (ipykernel)",
   "language": "python",
   "name": "python3"
  },
  "language_info": {
   "codemirror_mode": {
    "name": "ipython",
    "version": 3
   },
   "file_extension": ".py",
   "mimetype": "text/x-python",
   "name": "python",
   "nbconvert_exporter": "python",
   "pygments_lexer": "ipython3",
   "version": "3.12.7"
  }
 },
 "nbformat": 4,
 "nbformat_minor": 5
}

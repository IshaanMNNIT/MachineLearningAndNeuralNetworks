{
 "cells": [
  {
   "cell_type": "code",
   "execution_count": 1,
   "id": "b14ef67b-75ab-415d-99b8-68445226ced4",
   "metadata": {},
   "outputs": [
    {
     "data": {
      "text/html": [
       "<div>\n",
       "<style scoped>\n",
       "    .dataframe tbody tr th:only-of-type {\n",
       "        vertical-align: middle;\n",
       "    }\n",
       "\n",
       "    .dataframe tbody tr th {\n",
       "        vertical-align: top;\n",
       "    }\n",
       "\n",
       "    .dataframe thead th {\n",
       "        text-align: right;\n",
       "    }\n",
       "</style>\n",
       "<table border=\"1\" class=\"dataframe\">\n",
       "  <thead>\n",
       "    <tr style=\"text-align: right;\">\n",
       "      <th></th>\n",
       "      <th>Area</th>\n",
       "      <th>MajorAxisLength</th>\n",
       "      <th>MinorAxisLength</th>\n",
       "      <th>Eccentricity</th>\n",
       "      <th>ConvexArea</th>\n",
       "      <th>Extent</th>\n",
       "      <th>Perimeter</th>\n",
       "      <th>Class</th>\n",
       "    </tr>\n",
       "  </thead>\n",
       "  <tbody>\n",
       "    <tr>\n",
       "      <th>212</th>\n",
       "      <td>57271</td>\n",
       "      <td>372.699124</td>\n",
       "      <td>196.976135</td>\n",
       "      <td>0.848926</td>\n",
       "      <td>58786</td>\n",
       "      <td>0.769151</td>\n",
       "      <td>949.936</td>\n",
       "      <td>Kecimen</td>\n",
       "    </tr>\n",
       "    <tr>\n",
       "      <th>464</th>\n",
       "      <td>119026</td>\n",
       "      <td>612.744411</td>\n",
       "      <td>250.926990</td>\n",
       "      <td>0.912304</td>\n",
       "      <td>123463</td>\n",
       "      <td>0.615745</td>\n",
       "      <td>1486.769</td>\n",
       "      <td>Besni</td>\n",
       "    </tr>\n",
       "    <tr>\n",
       "      <th>471</th>\n",
       "      <td>120255</td>\n",
       "      <td>471.813529</td>\n",
       "      <td>326.546336</td>\n",
       "      <td>0.721793</td>\n",
       "      <td>123486</td>\n",
       "      <td>0.723887</td>\n",
       "      <td>1322.814</td>\n",
       "      <td>Besni</td>\n",
       "    </tr>\n",
       "    <tr>\n",
       "      <th>40</th>\n",
       "      <td>95245</td>\n",
       "      <td>397.094114</td>\n",
       "      <td>307.273922</td>\n",
       "      <td>0.633422</td>\n",
       "      <td>97988</td>\n",
       "      <td>0.753044</td>\n",
       "      <td>1201.390</td>\n",
       "      <td>Kecimen</td>\n",
       "    </tr>\n",
       "    <tr>\n",
       "      <th>669</th>\n",
       "      <td>98166</td>\n",
       "      <td>420.702176</td>\n",
       "      <td>299.583609</td>\n",
       "      <td>0.702074</td>\n",
       "      <td>100659</td>\n",
       "      <td>0.707426</td>\n",
       "      <td>1245.034</td>\n",
       "      <td>Besni</td>\n",
       "    </tr>\n",
       "  </tbody>\n",
       "</table>\n",
       "</div>"
      ],
      "text/plain": [
       "       Area  MajorAxisLength  MinorAxisLength  Eccentricity  ConvexArea  \\\n",
       "212   57271       372.699124       196.976135      0.848926       58786   \n",
       "464  119026       612.744411       250.926990      0.912304      123463   \n",
       "471  120255       471.813529       326.546336      0.721793      123486   \n",
       "40    95245       397.094114       307.273922      0.633422       97988   \n",
       "669   98166       420.702176       299.583609      0.702074      100659   \n",
       "\n",
       "       Extent  Perimeter    Class  \n",
       "212  0.769151    949.936  Kecimen  \n",
       "464  0.615745   1486.769    Besni  \n",
       "471  0.723887   1322.814    Besni  \n",
       "40   0.753044   1201.390  Kecimen  \n",
       "669  0.707426   1245.034    Besni  "
      ]
     },
     "execution_count": 1,
     "metadata": {},
     "output_type": "execute_result"
    }
   ],
   "source": [
    "import pandas as pd\n",
    "\n",
    "df = pd.read_excel(\"Raisin_Dataset.xlsx\")\n",
    "df.sample(5)"
   ]
  },
  {
   "cell_type": "code",
   "execution_count": 2,
   "id": "b8471146-f1b2-4c88-909d-003f6c29156f",
   "metadata": {},
   "outputs": [
    {
     "data": {
      "text/plain": [
       "(900, 8)"
      ]
     },
     "execution_count": 2,
     "metadata": {},
     "output_type": "execute_result"
    }
   ],
   "source": [
    "df.shape"
   ]
  },
  {
   "cell_type": "code",
   "execution_count": 3,
   "id": "a1ff0d80-6fa1-4a9b-a46e-3ee94528d56c",
   "metadata": {},
   "outputs": [],
   "source": [
    "X = df[[\"Area\", \"MajorAxisLength\", \"MinorAxisLength\", \"Eccentricity\", \"ConvexArea\", \"Extent\", \"Perimeter\"]]\n",
    "y = df[\"Class\"]\n",
    "\n",
    "from sklearn.model_selection import train_test_split\n",
    "\n",
    "X_train, X_test, y_train, y_test = train_test_split(X, y, test_size=0.2, random_state=5)"
   ]
  },
  {
   "cell_type": "code",
   "execution_count": 4,
   "id": "ac324382-6ab1-4f81-ae9c-efa486271263",
   "metadata": {},
   "outputs": [
    {
     "name": "stdout",
     "output_type": "stream",
     "text": [
      "              precision    recall  f1-score   support\n",
      "\n",
      "       Besni       0.88      0.78      0.83        97\n",
      "     Kecimen       0.78      0.88      0.82        83\n",
      "\n",
      "    accuracy                           0.83       180\n",
      "   macro avg       0.83      0.83      0.83       180\n",
      "weighted avg       0.83      0.83      0.83       180\n",
      "\n"
     ]
    }
   ],
   "source": [
    "from sklearn.svm import SVC\n",
    "\n",
    "model = SVC(kernel=\"rbf\")\n",
    "model.fit(X_train, y_train)\n",
    "\n",
    "y_pred = model.predict(X_test)\n",
    "\n",
    "from sklearn.metrics import classification_report\n",
    "\n",
    "report = classification_report(y_test, y_pred)\n",
    "print(report)"
   ]
  },
  {
   "cell_type": "code",
   "execution_count": 5,
   "id": "f95bd1b5-cd46-4ab0-89ed-527d6b37d344",
   "metadata": {},
   "outputs": [
    {
     "name": "stdout",
     "output_type": "stream",
     "text": [
      "              precision    recall  f1-score   support\n",
      "\n",
      "       Besni       0.81      0.89      0.85        97\n",
      "     Kecimen       0.85      0.76      0.80        83\n",
      "\n",
      "    accuracy                           0.83       180\n",
      "   macro avg       0.83      0.82      0.82       180\n",
      "weighted avg       0.83      0.83      0.83       180\n",
      "\n"
     ]
    }
   ],
   "source": [
    "from sklearn.tree import DecisionTreeClassifier\n",
    "\n",
    "model = DecisionTreeClassifier()\n",
    "model.fit(X_train, y_train)\n",
    "\n",
    "y_pred = model.predict(X_test)\n",
    "\n",
    "from sklearn.metrics import classification_report\n",
    "\n",
    "report = classification_report(y_test, y_pred)\n",
    "print(report)"
   ]
  },
  {
   "cell_type": "code",
   "execution_count": 6,
   "id": "873e52ca-e3a6-4373-8b5a-d61b06fce92b",
   "metadata": {},
   "outputs": [
    {
     "name": "stdout",
     "output_type": "stream",
     "text": [
      "              precision    recall  f1-score   support\n",
      "\n",
      "       Besni       0.88      0.86      0.87        97\n",
      "     Kecimen       0.84      0.87      0.85        83\n",
      "\n",
      "    accuracy                           0.86       180\n",
      "   macro avg       0.86      0.86      0.86       180\n",
      "weighted avg       0.86      0.86      0.86       180\n",
      "\n"
     ]
    }
   ],
   "source": [
    "from sklearn.ensemble import RandomForestClassifier\n",
    "\n",
    "model = RandomForestClassifier(n_estimators=20)\n",
    "model.fit(X_train, y_train)\n",
    "\n",
    "y_pred = model.predict(X_test)\n",
    "\n",
    "from sklearn.metrics import classification_report\n",
    "\n",
    "report = classification_report(y_test, y_pred)\n",
    "print(report)"
   ]
  },
  {
   "cell_type": "markdown",
   "id": "05e98fa8-da8d-4182-9f92-518a698f9bb6",
   "metadata": {},
   "source": [
    "<h1>You can see that the model performance is better compared to SVM and DecisionTree"
   ]
  }
 ],
 "metadata": {
  "kernelspec": {
   "display_name": "Python 3 (ipykernel)",
   "language": "python",
   "name": "python3"
  },
  "language_info": {
   "codemirror_mode": {
    "name": "ipython",
    "version": 3
   },
   "file_extension": ".py",
   "mimetype": "text/x-python",
   "name": "python",
   "nbconvert_exporter": "python",
   "pygments_lexer": "ipython3",
   "version": "3.12.7"
  }
 },
 "nbformat": 4,
 "nbformat_minor": 5
}

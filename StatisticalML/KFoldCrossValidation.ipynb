{
 "cells": [
  {
   "cell_type": "code",
   "execution_count": 1,
   "id": "4b029e13-c731-43ca-8703-3471511bddd3",
   "metadata": {},
   "outputs": [],
   "source": [
    "import numpy as np\n",
    "import matplotlib.pyplot as plt\n",
    "from sklearn.datasets import make_classification\n",
    "from sklearn.model_selection import train_test_split\n",
    "from sklearn.linear_model import LogisticRegression\n",
    "\n",
    "X, y = make_classification(\n",
    "    n_features=10, \n",
    "    n_samples=1000, \n",
    "    n_informative=8,\n",
    "    n_redundant=2,\n",
    "    n_repeated=0,\n",
    "    n_classes=2, \n",
    "    random_state=42\n",
    ")\n",
    "# Split data into training and test sets\n",
    "X_train, X_test, y_train, y_test = train_test_split(X, y, test_size=0.25, random_state=42)"
   ]
  },
  {
   "cell_type": "code",
   "execution_count": 2,
   "id": "7ca67935-c394-4a2a-b82d-5e13e8cad2b3",
   "metadata": {},
   "outputs": [
    {
     "name": "stdout",
     "output_type": "stream",
     "text": [
      "              precision    recall  f1-score   support\n",
      "\n",
      "           0       0.73      0.65      0.69       130\n",
      "           1       0.66      0.74      0.70       120\n",
      "\n",
      "    accuracy                           0.70       250\n",
      "   macro avg       0.70      0.70      0.70       250\n",
      "weighted avg       0.70      0.70      0.70       250\n",
      "\n"
     ]
    }
   ],
   "source": [
    "from sklearn.metrics import classification_report\n",
    "\n",
    "model = LogisticRegression()\n",
    "model.fit(X_train, y_train)\n",
    "\n",
    "y_pred = model.predict(X_test)\n",
    "report = classification_report(y_test, y_pred)\n",
    "print(report)"
   ]
  },
  {
   "cell_type": "code",
   "execution_count": 3,
   "id": "865ad86c-6d4b-4369-8b28-57a62398c474",
   "metadata": {},
   "outputs": [
    {
     "name": "stdout",
     "output_type": "stream",
     "text": [
      "[0 2 3 4] [1]\n",
      "[0 1 2 3] [4]\n",
      "[0 1 3 4] [2]\n",
      "[1 2 3 4] [0]\n",
      "[0 1 2 4] [3]\n"
     ]
    }
   ],
   "source": [
    "from sklearn.model_selection import KFold\n",
    "\n",
    "kf = KFold(n_splits = 5 , shuffle = True , random_state = 42)\n",
    "\n",
    "for train_index, test_index in kf.split([50,60,70,80,90]):\n",
    "    print(train_index, test_index)"
   ]
  },
  {
   "cell_type": "code",
   "execution_count": 4,
   "id": "808f6bf5-05ff-45dd-9e1b-97654e739720",
   "metadata": {},
   "outputs": [
    {
     "name": "stdout",
     "output_type": "stream",
     "text": [
      "0.675\n",
      "0.715\n",
      "0.72\n",
      "0.645\n",
      "0.72\n"
     ]
    }
   ],
   "source": [
    "model = LogisticRegression()\n",
    "\n",
    "for train_index, test_index in kf.split(X, y):\n",
    "    X_train, X_test = X[train_index], X[test_index]\n",
    "    y_train, y_test = y[train_index], y[test_index]  \n",
    "    model.fit(X_train, y_train)\n",
    "    print(model.score(X_test, y_test))"
   ]
  },
  {
   "cell_type": "code",
   "execution_count": 5,
   "id": "e3f1419f-52d9-4cdb-ac24-9123fed2945f",
   "metadata": {},
   "outputs": [
    {
     "data": {
      "text/plain": [
       "array([0.675, 0.715, 0.72 , 0.645, 0.72 ])"
      ]
     },
     "execution_count": 5,
     "metadata": {},
     "output_type": "execute_result"
    }
   ],
   "source": [
    "## Cross Validation on Logistic Regression\n",
    "from sklearn.model_selection import cross_val_score\n",
    "cross_val_score(LogisticRegression(), X, y, cv=kf, scoring=\"accuracy\")"
   ]
  },
  {
   "cell_type": "code",
   "execution_count": 6,
   "id": "4aa56f8a-785a-41cc-b73b-63dca09c5338",
   "metadata": {},
   "outputs": [
    {
     "data": {
      "text/plain": [
       "array([0.72 , 0.83 , 0.795, 0.81 , 0.835])"
      ]
     },
     "execution_count": 6,
     "metadata": {},
     "output_type": "execute_result"
    }
   ],
   "source": [
    "## Cross Validation on decision tree\n",
    "from sklearn.tree import DecisionTreeClassifier\n",
    "cross_val_score(DecisionTreeClassifier(), X, y, cv=kf, scoring=\"accuracy\")"
   ]
  },
  {
   "cell_type": "code",
   "execution_count": 7,
   "id": "66968a9e-fe9a-4a16-84cc-19db04e3d847",
   "metadata": {},
   "outputs": [
    {
     "data": {
      "text/plain": [
       "array([0.845, 0.875, 0.885, 0.9  , 0.845])"
      ]
     },
     "execution_count": 7,
     "metadata": {},
     "output_type": "execute_result"
    }
   ],
   "source": [
    "## On Random Forest\n",
    "from sklearn.ensemble import RandomForestClassifier\n",
    "cross_val_score(RandomForestClassifier(n_estimators=10), X, y, cv=kf, scoring=\"accuracy\")"
   ]
  },
  {
   "cell_type": "markdown",
   "id": "b6a4a0a0-032d-49bb-a25e-fee91ea5642e",
   "metadata": {},
   "source": [
    "### Cross validation to evaluate same model with different parameters"
   ]
  },
  {
   "cell_type": "code",
   "execution_count": 8,
   "id": "595eee18-f103-4a5c-891a-3c5a65de70db",
   "metadata": {},
   "outputs": [
    {
     "data": {
      "text/plain": [
       "array([0.845, 0.88 , 0.86 , 0.89 , 0.875])"
      ]
     },
     "execution_count": 8,
     "metadata": {},
     "output_type": "execute_result"
    }
   ],
   "source": [
    "# Random Forest with 20 trees\n",
    "from sklearn.ensemble import RandomForestClassifier\n",
    "cross_val_score(RandomForestClassifier(n_estimators=20), X, y, cv=kf, scoring=\"accuracy\")"
   ]
  },
  {
   "cell_type": "code",
   "execution_count": 9,
   "id": "12771aa1-119a-47fa-b79b-d88c3895b415",
   "metadata": {},
   "outputs": [
    {
     "data": {
      "text/plain": [
       "array([0.86 , 0.91 , 0.895, 0.885, 0.885])"
      ]
     },
     "execution_count": 9,
     "metadata": {},
     "output_type": "execute_result"
    }
   ],
   "source": [
    "## On 30 trees\n",
    "from sklearn.ensemble import RandomForestClassifier\n",
    "cross_val_score(RandomForestClassifier(n_estimators=30), X, y, cv=kf, scoring=\"accuracy\")"
   ]
  },
  {
   "cell_type": "code",
   "execution_count": 10,
   "id": "ab701b3a-d22f-4c3c-9c11-1f33b5be7f7f",
   "metadata": {},
   "outputs": [
    {
     "data": {
      "text/plain": [
       "{'fit_time': array([0.01600456, 0.01747417, 0.01725197, 0.01258755, 0.00211453]),\n",
       " 'score_time': array([0.00194001, 0.00491691, 0.00302458, 0.00944209, 0.01644874]),\n",
       " 'test_accuracy': array([0.675, 0.715, 0.72 , 0.645, 0.72 ]),\n",
       " 'test_roc_auc': array([0.7393617 , 0.77681072, 0.79251701, 0.74919872, 0.77569249])}"
      ]
     },
     "execution_count": 10,
     "metadata": {},
     "output_type": "execute_result"
    }
   ],
   "source": [
    "## Cross Validation to evaluate multiple metrics\n",
    "from sklearn.model_selection import cross_validate\n",
    "\n",
    "cross_validate(LogisticRegression(), X, y, cv=kf, scoring=[\"accuracy\", \"roc_auc\"])"
   ]
  }
 ],
 "metadata": {
  "kernelspec": {
   "display_name": "Python 3 (ipykernel)",
   "language": "python",
   "name": "python3"
  },
  "language_info": {
   "codemirror_mode": {
    "name": "ipython",
    "version": 3
   },
   "file_extension": ".py",
   "mimetype": "text/x-python",
   "name": "python",
   "nbconvert_exporter": "python",
   "pygments_lexer": "ipython3",
   "version": "3.12.7"
  }
 },
 "nbformat": 4,
 "nbformat_minor": 5
}

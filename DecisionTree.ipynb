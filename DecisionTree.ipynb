{
 "cells": [
  {
   "cell_type": "code",
   "execution_count": 12,
   "id": "6e12170f-a793-4bb9-8834-ae1b3168ec24",
   "metadata": {},
   "outputs": [
    {
     "data": {
      "text/html": [
       "<div>\n",
       "<style scoped>\n",
       "    .dataframe tbody tr th:only-of-type {\n",
       "        vertical-align: middle;\n",
       "    }\n",
       "\n",
       "    .dataframe tbody tr th {\n",
       "        vertical-align: top;\n",
       "    }\n",
       "\n",
       "    .dataframe thead th {\n",
       "        text-align: right;\n",
       "    }\n",
       "</style>\n",
       "<table border=\"1\" class=\"dataframe\">\n",
       "  <thead>\n",
       "    <tr style=\"text-align: right;\">\n",
       "      <th></th>\n",
       "      <th>company</th>\n",
       "      <th>job</th>\n",
       "      <th>degree</th>\n",
       "      <th>salary_more_then_100k</th>\n",
       "    </tr>\n",
       "  </thead>\n",
       "  <tbody>\n",
       "    <tr>\n",
       "      <th>0</th>\n",
       "      <td>google</td>\n",
       "      <td>sales executive</td>\n",
       "      <td>bachelors</td>\n",
       "      <td>0</td>\n",
       "    </tr>\n",
       "    <tr>\n",
       "      <th>1</th>\n",
       "      <td>google</td>\n",
       "      <td>sales executive</td>\n",
       "      <td>masters</td>\n",
       "      <td>0</td>\n",
       "    </tr>\n",
       "    <tr>\n",
       "      <th>2</th>\n",
       "      <td>google</td>\n",
       "      <td>business manager</td>\n",
       "      <td>bachelors</td>\n",
       "      <td>1</td>\n",
       "    </tr>\n",
       "    <tr>\n",
       "      <th>3</th>\n",
       "      <td>google</td>\n",
       "      <td>business manager</td>\n",
       "      <td>masters</td>\n",
       "      <td>1</td>\n",
       "    </tr>\n",
       "    <tr>\n",
       "      <th>4</th>\n",
       "      <td>google</td>\n",
       "      <td>computer programmer</td>\n",
       "      <td>bachelors</td>\n",
       "      <td>0</td>\n",
       "    </tr>\n",
       "  </tbody>\n",
       "</table>\n",
       "</div>"
      ],
      "text/plain": [
       "  company                  job     degree  salary_more_then_100k\n",
       "0  google      sales executive  bachelors                      0\n",
       "1  google      sales executive    masters                      0\n",
       "2  google     business manager  bachelors                      1\n",
       "3  google     business manager    masters                      1\n",
       "4  google  computer programmer  bachelors                      0"
      ]
     },
     "execution_count": 12,
     "metadata": {},
     "output_type": "execute_result"
    }
   ],
   "source": [
    "import warnings as w\n",
    "w.filterwarnings('ignore')\n",
    "import pandas as pd\n",
    "df = pd.read_csv('salaries.csv')\n",
    "df.head()"
   ]
  },
  {
   "cell_type": "code",
   "execution_count": 13,
   "id": "5059d5f8-6253-413c-b6c1-29751b7c2c8e",
   "metadata": {},
   "outputs": [
    {
     "data": {
      "text/plain": [
       "array(['bachelors', 'masters'], dtype=object)"
      ]
     },
     "execution_count": 13,
     "metadata": {},
     "output_type": "execute_result"
    }
   ],
   "source": [
    "## Feature Engineering\n",
    "df.degree.unique()"
   ]
  },
  {
   "cell_type": "code",
   "execution_count": 14,
   "id": "0bac2072-3c49-4658-ad2c-19fdad2561f2",
   "metadata": {},
   "outputs": [
    {
     "data": {
      "text/html": [
       "<div>\n",
       "<style scoped>\n",
       "    .dataframe tbody tr th:only-of-type {\n",
       "        vertical-align: middle;\n",
       "    }\n",
       "\n",
       "    .dataframe tbody tr th {\n",
       "        vertical-align: top;\n",
       "    }\n",
       "\n",
       "    .dataframe thead th {\n",
       "        text-align: right;\n",
       "    }\n",
       "</style>\n",
       "<table border=\"1\" class=\"dataframe\">\n",
       "  <thead>\n",
       "    <tr style=\"text-align: right;\">\n",
       "      <th></th>\n",
       "      <th>company</th>\n",
       "      <th>job</th>\n",
       "      <th>degree</th>\n",
       "      <th>salary_more_then_100k</th>\n",
       "      <th>degree_number</th>\n",
       "    </tr>\n",
       "  </thead>\n",
       "  <tbody>\n",
       "    <tr>\n",
       "      <th>0</th>\n",
       "      <td>google</td>\n",
       "      <td>sales executive</td>\n",
       "      <td>bachelors</td>\n",
       "      <td>0</td>\n",
       "      <td>1</td>\n",
       "    </tr>\n",
       "    <tr>\n",
       "      <th>1</th>\n",
       "      <td>google</td>\n",
       "      <td>sales executive</td>\n",
       "      <td>masters</td>\n",
       "      <td>0</td>\n",
       "      <td>2</td>\n",
       "    </tr>\n",
       "    <tr>\n",
       "      <th>2</th>\n",
       "      <td>google</td>\n",
       "      <td>business manager</td>\n",
       "      <td>bachelors</td>\n",
       "      <td>1</td>\n",
       "      <td>1</td>\n",
       "    </tr>\n",
       "  </tbody>\n",
       "</table>\n",
       "</div>"
      ],
      "text/plain": [
       "  company               job     degree  salary_more_then_100k  degree_number\n",
       "0  google   sales executive  bachelors                      0              1\n",
       "1  google   sales executive    masters                      0              2\n",
       "2  google  business manager  bachelors                      1              1"
      ]
     },
     "execution_count": 14,
     "metadata": {},
     "output_type": "execute_result"
    }
   ],
   "source": [
    "df['degree_number'] = df.degree.map({'bachelors':1, 'masters': 2})\n",
    "df.head(3)"
   ]
  },
  {
   "cell_type": "code",
   "execution_count": 15,
   "id": "6518ad73-3f07-4db9-b205-1aadb4bb79e1",
   "metadata": {},
   "outputs": [
    {
     "data": {
      "text/html": [
       "<div>\n",
       "<style scoped>\n",
       "    .dataframe tbody tr th:only-of-type {\n",
       "        vertical-align: middle;\n",
       "    }\n",
       "\n",
       "    .dataframe tbody tr th {\n",
       "        vertical-align: top;\n",
       "    }\n",
       "\n",
       "    .dataframe thead th {\n",
       "        text-align: right;\n",
       "    }\n",
       "</style>\n",
       "<table border=\"1\" class=\"dataframe\">\n",
       "  <thead>\n",
       "    <tr style=\"text-align: right;\">\n",
       "      <th></th>\n",
       "      <th>company</th>\n",
       "      <th>job</th>\n",
       "      <th>salary_more_then_100k</th>\n",
       "      <th>degree_number</th>\n",
       "    </tr>\n",
       "  </thead>\n",
       "  <tbody>\n",
       "    <tr>\n",
       "      <th>0</th>\n",
       "      <td>google</td>\n",
       "      <td>sales executive</td>\n",
       "      <td>0</td>\n",
       "      <td>1</td>\n",
       "    </tr>\n",
       "    <tr>\n",
       "      <th>1</th>\n",
       "      <td>google</td>\n",
       "      <td>sales executive</td>\n",
       "      <td>0</td>\n",
       "      <td>2</td>\n",
       "    </tr>\n",
       "    <tr>\n",
       "      <th>2</th>\n",
       "      <td>google</td>\n",
       "      <td>business manager</td>\n",
       "      <td>1</td>\n",
       "      <td>1</td>\n",
       "    </tr>\n",
       "    <tr>\n",
       "      <th>3</th>\n",
       "      <td>google</td>\n",
       "      <td>business manager</td>\n",
       "      <td>1</td>\n",
       "      <td>2</td>\n",
       "    </tr>\n",
       "    <tr>\n",
       "      <th>4</th>\n",
       "      <td>google</td>\n",
       "      <td>computer programmer</td>\n",
       "      <td>0</td>\n",
       "      <td>1</td>\n",
       "    </tr>\n",
       "  </tbody>\n",
       "</table>\n",
       "</div>"
      ],
      "text/plain": [
       "  company                  job  salary_more_then_100k  degree_number\n",
       "0  google      sales executive                      0              1\n",
       "1  google      sales executive                      0              2\n",
       "2  google     business manager                      1              1\n",
       "3  google     business manager                      1              2\n",
       "4  google  computer programmer                      0              1"
      ]
     },
     "execution_count": 15,
     "metadata": {},
     "output_type": "execute_result"
    }
   ],
   "source": [
    "df.drop('degree',axis = 1,inplace = True)\n",
    "df.head()"
   ]
  },
  {
   "cell_type": "code",
   "execution_count": 16,
   "id": "bd76bb1d-f654-449e-b00a-ab18357092e3",
   "metadata": {},
   "outputs": [
    {
     "data": {
      "text/html": [
       "<div>\n",
       "<style scoped>\n",
       "    .dataframe tbody tr th:only-of-type {\n",
       "        vertical-align: middle;\n",
       "    }\n",
       "\n",
       "    .dataframe tbody tr th {\n",
       "        vertical-align: top;\n",
       "    }\n",
       "\n",
       "    .dataframe thead th {\n",
       "        text-align: right;\n",
       "    }\n",
       "</style>\n",
       "<table border=\"1\" class=\"dataframe\">\n",
       "  <thead>\n",
       "    <tr style=\"text-align: right;\">\n",
       "      <th></th>\n",
       "      <th>salary_more_then_100k</th>\n",
       "      <th>degree_number</th>\n",
       "      <th>company_facebook</th>\n",
       "      <th>company_google</th>\n",
       "      <th>job_computer programmer</th>\n",
       "      <th>job_sales executive</th>\n",
       "    </tr>\n",
       "  </thead>\n",
       "  <tbody>\n",
       "    <tr>\n",
       "      <th>0</th>\n",
       "      <td>0</td>\n",
       "      <td>1</td>\n",
       "      <td>False</td>\n",
       "      <td>True</td>\n",
       "      <td>False</td>\n",
       "      <td>True</td>\n",
       "    </tr>\n",
       "    <tr>\n",
       "      <th>1</th>\n",
       "      <td>0</td>\n",
       "      <td>2</td>\n",
       "      <td>False</td>\n",
       "      <td>True</td>\n",
       "      <td>False</td>\n",
       "      <td>True</td>\n",
       "    </tr>\n",
       "    <tr>\n",
       "      <th>2</th>\n",
       "      <td>1</td>\n",
       "      <td>1</td>\n",
       "      <td>False</td>\n",
       "      <td>True</td>\n",
       "      <td>False</td>\n",
       "      <td>False</td>\n",
       "    </tr>\n",
       "    <tr>\n",
       "      <th>3</th>\n",
       "      <td>1</td>\n",
       "      <td>2</td>\n",
       "      <td>False</td>\n",
       "      <td>True</td>\n",
       "      <td>False</td>\n",
       "      <td>False</td>\n",
       "    </tr>\n",
       "    <tr>\n",
       "      <th>4</th>\n",
       "      <td>0</td>\n",
       "      <td>1</td>\n",
       "      <td>False</td>\n",
       "      <td>True</td>\n",
       "      <td>True</td>\n",
       "      <td>False</td>\n",
       "    </tr>\n",
       "  </tbody>\n",
       "</table>\n",
       "</div>"
      ],
      "text/plain": [
       "   salary_more_then_100k  degree_number  company_facebook  company_google  \\\n",
       "0                      0              1             False            True   \n",
       "1                      0              2             False            True   \n",
       "2                      1              1             False            True   \n",
       "3                      1              2             False            True   \n",
       "4                      0              1             False            True   \n",
       "\n",
       "   job_computer programmer  job_sales executive  \n",
       "0                    False                 True  \n",
       "1                    False                 True  \n",
       "2                    False                False  \n",
       "3                    False                False  \n",
       "4                     True                False  "
      ]
     },
     "execution_count": 16,
     "metadata": {},
     "output_type": "execute_result"
    }
   ],
   "source": [
    "df_encoded = pd.get_dummies(df, columns=['company', 'job'], drop_first=True)\n",
    "df_encoded.head()"
   ]
  },
  {
   "cell_type": "markdown",
   "id": "15cef335-980a-4cfc-8902-84a438d7b6e0",
   "metadata": {},
   "source": [
    "# Training a classifier with Gini "
   ]
  },
  {
   "cell_type": "markdown",
   "id": "299e187c-fdcb-4335-b073-9056d64180c9",
   "metadata": {},
   "source": [
    "We do not do train test split when dataset is very small\n",
    "The purpose of this tutorial is to explain you DecisionTreeClassifier and also to print the decision tree (for which small dataset with less features is useful). In real life, you will almost always to train, test split"
   ]
  },
  {
   "cell_type": "code",
   "execution_count": 17,
   "id": "5e79d15c-b915-46a0-aa9f-71875129a165",
   "metadata": {},
   "outputs": [
    {
     "name": "stdout",
     "output_type": "stream",
     "text": [
      "              precision    recall  f1-score   support\n",
      "\n",
      "           0       1.00      1.00      1.00         6\n",
      "           1       1.00      1.00      1.00        10\n",
      "\n",
      "    accuracy                           1.00        16\n",
      "   macro avg       1.00      1.00      1.00        16\n",
      "weighted avg       1.00      1.00      1.00        16\n",
      "\n"
     ]
    }
   ],
   "source": [
    "from sklearn.tree import DecisionTreeClassifier\n",
    "\n",
    "X = df_encoded.drop('salary_more_then_100k', axis=\"columns\")\n",
    "y = df_encoded['salary_more_then_100k']\n",
    "\n",
    "model = DecisionTreeClassifier(criterion=\"gini\")\n",
    "model.fit(X, y)\n",
    "\n",
    "y_pred = model.predict(X)\n",
    "\n",
    "from sklearn.metrics import classification_report\n",
    "\n",
    "report = classification_report(y, y_pred)\n",
    "print(report)"
   ]
  },
  {
   "cell_type": "code",
   "execution_count": 18,
   "id": "604f1f4b-855e-4baa-8636-1e6f43544454",
   "metadata": {},
   "outputs": [
    {
     "name": "stdout",
     "output_type": "stream",
     "text": [
      "|--- company_facebook <= 0.50\n",
      "|   |--- job_sales executive <= 0.50\n",
      "|   |   |--- degree_number <= 1.50\n",
      "|   |   |   |--- job_computer programmer <= 0.50\n",
      "|   |   |   |   |--- company_google <= 0.50\n",
      "|   |   |   |   |   |--- class: 0\n",
      "|   |   |   |   |--- company_google >  0.50\n",
      "|   |   |   |   |   |--- class: 1\n",
      "|   |   |   |--- job_computer programmer >  0.50\n",
      "|   |   |   |   |--- class: 0\n",
      "|   |   |--- degree_number >  1.50\n",
      "|   |   |   |--- class: 1\n",
      "|   |--- job_sales executive >  0.50\n",
      "|   |   |--- class: 0\n",
      "|--- company_facebook >  0.50\n",
      "|   |--- class: 1\n",
      "\n"
     ]
    }
   ],
   "source": [
    "# Optionally, visualize the tree\n",
    "from sklearn.tree import export_text\n",
    "print(export_text(model, feature_names=list(X.columns)))"
   ]
  },
  {
   "cell_type": "code",
   "execution_count": 19,
   "id": "795b917e-2479-404d-a71b-a47d79d19c43",
   "metadata": {},
   "outputs": [
    {
     "name": "stdout",
     "output_type": "stream",
     "text": [
      "              precision    recall  f1-score   support\n",
      "\n",
      "           0       1.00      1.00      1.00         6\n",
      "           1       1.00      1.00      1.00        10\n",
      "\n",
      "    accuracy                           1.00        16\n",
      "   macro avg       1.00      1.00      1.00        16\n",
      "weighted avg       1.00      1.00      1.00        16\n",
      "\n"
     ]
    }
   ],
   "source": [
    "from sklearn.tree import DecisionTreeClassifier\n",
    "\n",
    "model = DecisionTreeClassifier(criterion=\"entropy\")\n",
    "model.fit(X, y)\n",
    "\n",
    "y_pred = model.predict(X)\n",
    "\n",
    "from sklearn.metrics import classification_report\n",
    "\n",
    "report = classification_report(y, y_pred)\n",
    "print(report)"
   ]
  },
  {
   "cell_type": "code",
   "execution_count": 20,
   "id": "acc8e1c6-bcee-4a3d-99a1-dcfd5e0929f9",
   "metadata": {},
   "outputs": [
    {
     "data": {
      "text/html": [
       "<div>\n",
       "<style scoped>\n",
       "    .dataframe tbody tr th:only-of-type {\n",
       "        vertical-align: middle;\n",
       "    }\n",
       "\n",
       "    .dataframe tbody tr th {\n",
       "        vertical-align: top;\n",
       "    }\n",
       "\n",
       "    .dataframe thead th {\n",
       "        text-align: right;\n",
       "    }\n",
       "</style>\n",
       "<table border=\"1\" class=\"dataframe\">\n",
       "  <thead>\n",
       "    <tr style=\"text-align: right;\">\n",
       "      <th></th>\n",
       "      <th>degree_number</th>\n",
       "      <th>company_facebook</th>\n",
       "      <th>company_google</th>\n",
       "      <th>job_computer programmer</th>\n",
       "      <th>job_sales executive</th>\n",
       "    </tr>\n",
       "  </thead>\n",
       "  <tbody>\n",
       "    <tr>\n",
       "      <th>0</th>\n",
       "      <td>1</td>\n",
       "      <td>False</td>\n",
       "      <td>True</td>\n",
       "      <td>False</td>\n",
       "      <td>True</td>\n",
       "    </tr>\n",
       "    <tr>\n",
       "      <th>1</th>\n",
       "      <td>2</td>\n",
       "      <td>False</td>\n",
       "      <td>True</td>\n",
       "      <td>False</td>\n",
       "      <td>True</td>\n",
       "    </tr>\n",
       "  </tbody>\n",
       "</table>\n",
       "</div>"
      ],
      "text/plain": [
       "   degree_number  company_facebook  company_google  job_computer programmer  \\\n",
       "0              1             False            True                    False   \n",
       "1              2             False            True                    False   \n",
       "\n",
       "   job_sales executive  \n",
       "0                 True  \n",
       "1                 True  "
      ]
     },
     "execution_count": 20,
     "metadata": {},
     "output_type": "execute_result"
    }
   ],
   "source": [
    "X.head(2)"
   ]
  },
  {
   "cell_type": "markdown",
   "id": "2bbdabf9-c657-4674-b28a-54a2014693f2",
   "metadata": {},
   "source": [
    "**Is salary of Google, Computer Engineer, Bachelors degree > 100 k ?**"
   ]
  },
  {
   "cell_type": "code",
   "execution_count": 21,
   "id": "b894b022-6d4a-453f-be5e-94ce8297bbfe",
   "metadata": {},
   "outputs": [
    {
     "data": {
      "text/plain": [
       "array([0], dtype=int64)"
      ]
     },
     "execution_count": 21,
     "metadata": {},
     "output_type": "execute_result"
    }
   ],
   "source": [
    "model.predict([[1, 0, 1, 1, 0]])"
   ]
  },
  {
   "cell_type": "markdown",
   "id": "272e5feb-e182-4fba-9690-769b1bebf4d2",
   "metadata": {},
   "source": [
    "**Is salary of Google, Computer Engineer, Masters degree > 100 k ?**"
   ]
  },
  {
   "cell_type": "code",
   "execution_count": 22,
   "id": "e7744f5b-0ab5-4173-92ed-cd18cda70e53",
   "metadata": {},
   "outputs": [
    {
     "data": {
      "text/plain": [
       "array([1], dtype=int64)"
      ]
     },
     "execution_count": 22,
     "metadata": {},
     "output_type": "execute_result"
    }
   ],
   "source": [
    "model.predict([[2, 0, 1, 1, 0]])"
   ]
  }
 ],
 "metadata": {
  "kernelspec": {
   "display_name": "Python 3 (ipykernel)",
   "language": "python",
   "name": "python3"
  },
  "language_info": {
   "codemirror_mode": {
    "name": "ipython",
    "version": 3
   },
   "file_extension": ".py",
   "mimetype": "text/x-python",
   "name": "python",
   "nbconvert_exporter": "python",
   "pygments_lexer": "ipython3",
   "version": "3.12.7"
  }
 },
 "nbformat": 4,
 "nbformat_minor": 5
}

{
 "cells": [
  {
   "cell_type": "code",
   "execution_count": 2,
   "id": "17264ef9-8d75-4404-9d21-ea87dc59c06a",
   "metadata": {},
   "outputs": [
    {
     "data": {
      "text/plain": [
       "(200, 3)"
      ]
     },
     "execution_count": 2,
     "metadata": {},
     "output_type": "execute_result"
    }
   ],
   "source": [
    "import pandas as pd\n",
    "df = pd.read_csv('regression_home_prices.csv')\n",
    "df.shape"
   ]
  },
  {
   "cell_type": "code",
   "execution_count": 3,
   "id": "c4cc4b86-3980-4b7a-a3e6-aed155bd6162",
   "metadata": {},
   "outputs": [
    {
     "data": {
      "text/html": [
       "<div>\n",
       "<style scoped>\n",
       "    .dataframe tbody tr th:only-of-type {\n",
       "        vertical-align: middle;\n",
       "    }\n",
       "\n",
       "    .dataframe tbody tr th {\n",
       "        vertical-align: top;\n",
       "    }\n",
       "\n",
       "    .dataframe thead th {\n",
       "        text-align: right;\n",
       "    }\n",
       "</style>\n",
       "<table border=\"1\" class=\"dataframe\">\n",
       "  <thead>\n",
       "    <tr style=\"text-align: right;\">\n",
       "      <th></th>\n",
       "      <th>area_sqr_ft</th>\n",
       "      <th>price_lakhs</th>\n",
       "      <th>bedrooms</th>\n",
       "    </tr>\n",
       "  </thead>\n",
       "  <tbody>\n",
       "    <tr>\n",
       "      <th>0</th>\n",
       "      <td>656.0</td>\n",
       "      <td>39.0</td>\n",
       "      <td>2</td>\n",
       "    </tr>\n",
       "    <tr>\n",
       "      <th>1</th>\n",
       "      <td>1260.0</td>\n",
       "      <td>83.2</td>\n",
       "      <td>2</td>\n",
       "    </tr>\n",
       "    <tr>\n",
       "      <th>2</th>\n",
       "      <td>1057.0</td>\n",
       "      <td>86.6</td>\n",
       "      <td>3</td>\n",
       "    </tr>\n",
       "    <tr>\n",
       "      <th>3</th>\n",
       "      <td>1259.0</td>\n",
       "      <td>59.0</td>\n",
       "      <td>2</td>\n",
       "    </tr>\n",
       "    <tr>\n",
       "      <th>4</th>\n",
       "      <td>1800.0</td>\n",
       "      <td>140.0</td>\n",
       "      <td>3</td>\n",
       "    </tr>\n",
       "  </tbody>\n",
       "</table>\n",
       "</div>"
      ],
      "text/plain": [
       "   area_sqr_ft  price_lakhs  bedrooms\n",
       "0        656.0         39.0         2\n",
       "1       1260.0         83.2         2\n",
       "2       1057.0         86.6         3\n",
       "3       1259.0         59.0         2\n",
       "4       1800.0        140.0         3"
      ]
     },
     "execution_count": 3,
     "metadata": {},
     "output_type": "execute_result"
    }
   ],
   "source": [
    "df.head()"
   ]
  },
  {
   "cell_type": "code",
   "execution_count": 4,
   "id": "547dd346-b289-4dbf-8842-8e74434ab4a6",
   "metadata": {},
   "outputs": [],
   "source": [
    "from sklearn.model_selection import train_test_split\n",
    "\n",
    "X = df[[\"area_sqr_ft\",\"bedrooms\"]]\n",
    "y = df[\"price_lakhs\"]\n",
    "\n",
    "X_train, X_test, y_train, y_test = train_test_split(X, y, test_size=0.2, random_state=10)"
   ]
  },
  {
   "cell_type": "code",
   "execution_count": 5,
   "id": "a1f225b8-19b5-4318-aee2-dfff640788ff",
   "metadata": {},
   "outputs": [
    {
     "data": {
      "text/plain": [
       "0.8874887686858772"
      ]
     },
     "execution_count": 5,
     "metadata": {},
     "output_type": "execute_result"
    }
   ],
   "source": [
    "from sklearn.linear_model import LinearRegression\n",
    "\n",
    "model = LinearRegression()\n",
    "model.fit(X_train, y_train)\n",
    "model.score(X_test, y_test)"
   ]
  },
  {
   "cell_type": "code",
   "execution_count": 11,
   "id": "6aab4bcb-6446-46f1-a1e7-a748aa348df0",
   "metadata": {},
   "outputs": [
    {
     "data": {
      "text/plain": [
       "array([79.15940002, 70.96469522, 63.51496358])"
      ]
     },
     "execution_count": 11,
     "metadata": {},
     "output_type": "execute_result"
    }
   ],
   "source": [
    "model.predict(X_test[:3])"
   ]
  },
  {
   "cell_type": "code",
   "execution_count": 12,
   "id": "edbd0c80-9926-4744-9ad2-e2afb77f070a",
   "metadata": {},
   "outputs": [
    {
     "data": {
      "text/plain": [
       "[68.0, 80.1, 69.0]"
      ]
     },
     "execution_count": 12,
     "metadata": {},
     "output_type": "execute_result"
    }
   ],
   "source": [
    "y_test[:3].to_list()"
   ]
  },
  {
   "cell_type": "code",
   "execution_count": 13,
   "id": "81b67c04-ccf7-40e0-9a31-1363872b6708",
   "metadata": {},
   "outputs": [
    {
     "data": {
      "text/plain": [
       "0.8703408590795081"
      ]
     },
     "execution_count": 13,
     "metadata": {},
     "output_type": "execute_result"
    }
   ],
   "source": [
    "## Using Voting Regressor\n",
    "from sklearn.ensemble import VotingRegressor\n",
    "\n",
    "from sklearn.linear_model import LinearRegression, Ridge\n",
    "from sklearn.tree import DecisionTreeRegressor\n",
    "\n",
    "# Create different regression models\n",
    "lin_reg = LinearRegression()\n",
    "ridge_reg = Ridge(alpha=1.0)\n",
    "dt_reg = DecisionTreeRegressor()\n",
    "\n",
    "\n",
    "vr = VotingRegressor(estimators=[\n",
    "    ('lr', lin_reg),\n",
    "    ('rr', ridge_reg),\n",
    "    ('dr', dt_reg)\n",
    "])\n",
    "\n",
    "vr.fit(X_train, y_train)\n",
    "vr.score(X_test, y_test)"
   ]
  },
  {
   "cell_type": "code",
   "execution_count": 14,
   "id": "7b05bf4c-2bec-4d6b-8a1f-2a5238b9170f",
   "metadata": {},
   "outputs": [
    {
     "data": {
      "text/plain": [
       "array([80.22148778, 70.08163805, 65.10601709])"
      ]
     },
     "execution_count": 14,
     "metadata": {},
     "output_type": "execute_result"
    }
   ],
   "source": [
    "vr.predict(X_test[:3])"
   ]
  },
  {
   "cell_type": "code",
   "execution_count": 16,
   "id": "5bf90f06-ff9f-4997-bdc4-7dd113fd0160",
   "metadata": {},
   "outputs": [
    {
     "data": {
      "text/plain": [
       "[68.0, 80.1, 69.0]"
      ]
     },
     "execution_count": 16,
     "metadata": {},
     "output_type": "execute_result"
    }
   ],
   "source": [
    "y_test[:3].to_list()"
   ]
  },
  {
   "cell_type": "markdown",
   "id": "141b91e3-5419-4d29-946d-7800a559ac80",
   "metadata": {},
   "source": [
    "The model performance (or the score which is 0.87) is a bit lower than the one we got with single model (i.e 0.88),  you can play with parameters in decision tree, ridge and linear regression model that was used in voting regressor to improve the performance. In any case, with this tutorial, I hope you got an understanding of how to use voting regressor to train multiple models and combine their results"
   ]
  },
  {
   "cell_type": "code",
   "execution_count": 17,
   "id": "653b0fb6-eee8-4633-8437-5749f2d25322",
   "metadata": {},
   "outputs": [
    {
     "data": {
      "text/plain": [
       "array([80.22148778, 70.08163805, 65.10601709])"
      ]
     },
     "execution_count": 17,
     "metadata": {},
     "output_type": "execute_result"
    }
   ],
   "source": [
    "vr.predict(X_test[:3])"
   ]
  },
  {
   "cell_type": "code",
   "execution_count": 18,
   "id": "7f2fb628-0507-482b-b132-357ce8399f7b",
   "metadata": {},
   "outputs": [
    {
     "data": {
      "text/plain": [
       "[68.0, 80.1, 69.0]"
      ]
     },
     "execution_count": 18,
     "metadata": {},
     "output_type": "execute_result"
    }
   ],
   "source": [
    "y_test[:3].to_list()"
   ]
  }
 ],
 "metadata": {
  "kernelspec": {
   "display_name": "Python 3 (ipykernel)",
   "language": "python",
   "name": "python3"
  },
  "language_info": {
   "codemirror_mode": {
    "name": "ipython",
    "version": 3
   },
   "file_extension": ".py",
   "mimetype": "text/x-python",
   "name": "python",
   "nbconvert_exporter": "python",
   "pygments_lexer": "ipython3",
   "version": "3.12.7"
  }
 },
 "nbformat": 4,
 "nbformat_minor": 5
}
